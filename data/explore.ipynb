{
 "cells": [
  {
   "cell_type": "code",
   "execution_count": 22,
   "metadata": {},
   "outputs": [],
   "source": [
    "import pandas as pd\n",
    "import json\n",
    "import pickle\n",
    "import numpy as np"
   ]
  },
  {
   "cell_type": "code",
   "execution_count": 23,
   "metadata": {},
   "outputs": [],
   "source": [
    "from ete3 import NCBITaxa\n",
    "ncbi = NCBITaxa()"
   ]
  },
  {
   "cell_type": "code",
   "execution_count": 24,
   "metadata": {},
   "outputs": [],
   "source": [
    "def info_dataframe(df):\n",
    "\n",
    "    max=0\n",
    "    \n",
    "    min=np.inf\n",
    "\n",
    "    len_df=df.shape[0] \n",
    "    print( f\"nombre d'échantillon : {len_df}\")\n",
    "    print(f'nombre unique sequence : {len(df[\"sequence\"].value_counts())}')\n",
    "    for seq in df['sequence']:\n",
    "        l=len(seq)\n",
    "        if l>max:\n",
    "            max=l\n",
    "        if l<min:\n",
    "            min=l\n",
    "\n",
    "\n",
    "    print(f\"taille max de séquence : {max}\")\n",
    "    print(f\"taille min de sequence : {min}\")\n",
    "\n",
    "    \n",
    "    print(f'nombre de genus : {len(df[\"genus\"].value_counts())}')\n",
    "\n",
    "\n",
    "    print(f'nombre de famille : {len(df[\"family\"].value_counts())}')\n",
    "\n",
    "\n",
    "    print(f'nombre de order : {len(df[\"order\"].value_counts())}')\n",
    "\n",
    "\n",
    "    \n",
    "    print(f'nombre de class : {len(df[\"class\"].value_counts())}')\n",
    "\n",
    "\n",
    "    print(f'nombre de phylum : {len(df[\"phylum\"].value_counts())}')\n",
    "\n",
    "\n",
    "    print(f'nombre d\"espèce : {len(df[\"species\"].value_counts())}')"
   ]
  },
  {
   "cell_type": "markdown",
   "metadata": {},
   "source": [
    "# 12S"
   ]
  },
  {
   "cell_type": "code",
   "execution_count": 4,
   "metadata": {},
   "outputs": [],
   "source": [
    "data_12S_0 = pd.read_csv(r'D:\\eDNA\\data\\data\\Data12S\\PretrainingData\\RawData\\12s_full.csv').drop(columns=['sub_sequences'])\n",
    "data_12S_1 = pd.read_csv(r'C:\\Users\\Auguste Verdier\\Desktop\\TeleoClassification\\data\\crabs\\12S\\12S\\output.tsv', sep='\\t',header=None)\n"
   ]
  },
  {
   "cell_type": "code",
   "execution_count": 5,
   "metadata": {},
   "outputs": [
    {
     "data": {
      "text/html": [
       "<div>\n",
       "<style scoped>\n",
       "    .dataframe tbody tr th:only-of-type {\n",
       "        vertical-align: middle;\n",
       "    }\n",
       "\n",
       "    .dataframe tbody tr th {\n",
       "        vertical-align: top;\n",
       "    }\n",
       "\n",
       "    .dataframe thead th {\n",
       "        text-align: right;\n",
       "    }\n",
       "</style>\n",
       "<table border=\"1\" class=\"dataframe\">\n",
       "  <thead>\n",
       "    <tr style=\"text-align: right;\">\n",
       "      <th></th>\n",
       "      <th>0</th>\n",
       "      <th>1</th>\n",
       "      <th>2</th>\n",
       "      <th>3</th>\n",
       "      <th>4</th>\n",
       "      <th>5</th>\n",
       "      <th>6</th>\n",
       "      <th>7</th>\n",
       "      <th>8</th>\n",
       "      <th>9</th>\n",
       "    </tr>\n",
       "  </thead>\n",
       "  <tbody>\n",
       "    <tr>\n",
       "      <th>0</th>\n",
       "      <td>LC552399.1.&lt;1.&gt;177</td>\n",
       "      <td>1001925</td>\n",
       "      <td>Eukaryota</td>\n",
       "      <td>Chordata</td>\n",
       "      <td>Actinopteri</td>\n",
       "      <td>Cypriniformes</td>\n",
       "      <td>Xenocyprididae</td>\n",
       "      <td>Nipponocypris</td>\n",
       "      <td>Nipponocypris_temminckii</td>\n",
       "      <td>CACCGCGGTTAAACGAGAGGCCCAAGTTGATAACACCACGGCGTAA...</td>\n",
       "    </tr>\n",
       "    <tr>\n",
       "      <th>1</th>\n",
       "      <td>LC340351.1.&lt;1.&gt;170</td>\n",
       "      <td>374848</td>\n",
       "      <td>Eukaryota</td>\n",
       "      <td>Chordata</td>\n",
       "      <td>Actinopteri</td>\n",
       "      <td>Salmoniformes</td>\n",
       "      <td>Salmonidae</td>\n",
       "      <td>Salvelinus</td>\n",
       "      <td>Salvelinus_curilus</td>\n",
       "      <td>CACCGCGGTTATACGAGAGGCCCTAGTTGATAACTACCGGCGTAAA...</td>\n",
       "    </tr>\n",
       "  </tbody>\n",
       "</table>\n",
       "</div>"
      ],
      "text/plain": [
       "                    0        1          2         3            4  \\\n",
       "0  LC552399.1.<1.>177  1001925  Eukaryota  Chordata  Actinopteri   \n",
       "1  LC340351.1.<1.>170   374848  Eukaryota  Chordata  Actinopteri   \n",
       "\n",
       "               5               6              7                         8  \\\n",
       "0  Cypriniformes  Xenocyprididae  Nipponocypris  Nipponocypris_temminckii   \n",
       "1  Salmoniformes      Salmonidae     Salvelinus        Salvelinus_curilus   \n",
       "\n",
       "                                                   9  \n",
       "0  CACCGCGGTTAAACGAGAGGCCCAAGTTGATAACACCACGGCGTAA...  \n",
       "1  CACCGCGGTTATACGAGAGGCCCTAGTTGATAACTACCGGCGTAAA...  "
      ]
     },
     "execution_count": 5,
     "metadata": {},
     "output_type": "execute_result"
    }
   ],
   "source": [
    "data_12S_1.head(2)"
   ]
  },
  {
   "cell_type": "code",
   "execution_count": 6,
   "metadata": {},
   "outputs": [
    {
     "data": {
      "text/html": [
       "<div>\n",
       "<style scoped>\n",
       "    .dataframe tbody tr th:only-of-type {\n",
       "        vertical-align: middle;\n",
       "    }\n",
       "\n",
       "    .dataframe tbody tr th {\n",
       "        vertical-align: top;\n",
       "    }\n",
       "\n",
       "    .dataframe thead th {\n",
       "        text-align: right;\n",
       "    }\n",
       "</style>\n",
       "<table border=\"1\" class=\"dataframe\">\n",
       "  <thead>\n",
       "    <tr style=\"text-align: right;\">\n",
       "      <th></th>\n",
       "      <th>sequence</th>\n",
       "      <th>phylum</th>\n",
       "      <th>class</th>\n",
       "      <th>order</th>\n",
       "      <th>family</th>\n",
       "      <th>genus</th>\n",
       "      <th>species</th>\n",
       "    </tr>\n",
       "  </thead>\n",
       "  <tbody>\n",
       "    <tr>\n",
       "      <th>0</th>\n",
       "      <td>GAACTACAAGTGAAAAACTTCAAACTTAAAGGACTTGACGGTATCC...</td>\n",
       "      <td>Chordata</td>\n",
       "      <td>Lepidosauria</td>\n",
       "      <td>Squamata</td>\n",
       "      <td>Lacertidae</td>\n",
       "      <td>Anatololacerta</td>\n",
       "      <td>Anatololacertadanfordi</td>\n",
       "    </tr>\n",
       "    <tr>\n",
       "      <th>1</th>\n",
       "      <td>GCCCCCGTGAGTAATGCCCTGACAGTTTTATATCCTAAAACGAGGA...</td>\n",
       "      <td>Chordata</td>\n",
       "      <td>Actinopteri</td>\n",
       "      <td>Scombriformes</td>\n",
       "      <td>Gempylidae</td>\n",
       "      <td>Promethichthys</td>\n",
       "      <td>Promethichthysprometheus</td>\n",
       "    </tr>\n",
       "  </tbody>\n",
       "</table>\n",
       "</div>"
      ],
      "text/plain": [
       "                                            sequence    phylum         class  \\\n",
       "0  GAACTACAAGTGAAAAACTTCAAACTTAAAGGACTTGACGGTATCC...  Chordata  Lepidosauria   \n",
       "1  GCCCCCGTGAGTAATGCCCTGACAGTTTTATATCCTAAAACGAGGA...  Chordata   Actinopteri   \n",
       "\n",
       "           order      family           genus                   species  \n",
       "0       Squamata  Lacertidae  Anatololacerta    Anatololacertadanfordi  \n",
       "1  Scombriformes  Gempylidae  Promethichthys  Promethichthysprometheus  "
      ]
     },
     "execution_count": 6,
     "metadata": {},
     "output_type": "execute_result"
    }
   ],
   "source": [
    "data_12S_0.head(2)"
   ]
  },
  {
   "cell_type": "code",
   "execution_count": 7,
   "metadata": {},
   "outputs": [
    {
     "name": "stdout",
     "output_type": "stream",
     "text": [
      "145588\n",
      "(206497, 7)\n"
     ]
    }
   ],
   "source": [
    "count_unique_sequence = data_12S_0['sequence'].nunique()\n",
    "print(count_unique_sequence)\n",
    "print(data_12S_0.shape)"
   ]
  },
  {
   "cell_type": "code",
   "execution_count": 8,
   "metadata": {},
   "outputs": [
    {
     "name": "stdout",
     "output_type": "stream",
     "text": [
      "(145979, 7)\n"
     ]
    }
   ],
   "source": [
    "data_12S_0.drop_duplicates(subset=['sequence','genus'], keep='first', inplace=True)\n",
    "print(data_12S_0.shape)"
   ]
  },
  {
   "cell_type": "code",
   "execution_count": 9,
   "metadata": {},
   "outputs": [
    {
     "name": "stdout",
     "output_type": "stream",
     "text": [
      "171745\n",
      "(326250, 10)\n"
     ]
    }
   ],
   "source": [
    "count_unique_sequence_2 = data_12S_1[9].nunique()\n",
    "print(count_unique_sequence_2)\n",
    "print(data_12S_1.shape)"
   ]
  },
  {
   "cell_type": "markdown",
   "metadata": {},
   "source": [
    "# 12 fish only"
   ]
  },
  {
   "cell_type": "code",
   "execution_count": 10,
   "metadata": {},
   "outputs": [
    {
     "name": "stdout",
     "output_type": "stream",
     "text": [
      "(26927, 7)\n",
      "26774\n",
      "(26927, 7)\n"
     ]
    },
    {
     "name": "stderr",
     "output_type": "stream",
     "text": [
      "C:\\Users\\Auguste Verdier\\AppData\\Local\\Temp\\ipykernel_8064\\544718451.py:4: SettingWithCopyWarning: \n",
      "A value is trying to be set on a copy of a slice from a DataFrame\n",
      "\n",
      "See the caveats in the documentation: https://pandas.pydata.org/pandas-docs/stable/user_guide/indexing.html#returning-a-view-versus-a-copy\n",
      "  f_data_12S_0.drop_duplicates(subset=['sequence','genus'], keep='first', inplace=True)\n"
     ]
    }
   ],
   "source": [
    "f_data_12S_0 = data_12S_0[(data_12S_0['class']  == 'Actinopteri') | (data_12S_0['class'] == 'Chondrichthyes')]\n",
    "print(f_data_12S_0.shape)\n",
    "print(f_data_12S_0['sequence'].nunique())\n",
    "f_data_12S_0.drop_duplicates(subset=['sequence','genus'], keep='first', inplace=True)\n",
    "print(f_data_12S_0.shape)"
   ]
  },
  {
   "cell_type": "code",
   "execution_count": 11,
   "metadata": {},
   "outputs": [
    {
     "name": "stdout",
     "output_type": "stream",
     "text": [
      "(47595, 10)\n",
      "30223\n"
     ]
    }
   ],
   "source": [
    "f_data_12S_1 = data_12S_1[(data_12S_1[4]  == 'Actinopteri') | (data_12S_1[4] == 'Chondrichthyes')]\n",
    "print(f_data_12S_1.shape)\n",
    "print(f_data_12S_1[9].nunique())"
   ]
  },
  {
   "cell_type": "markdown",
   "metadata": {},
   "source": [
    "# Teleo"
   ]
  },
  {
   "cell_type": "code",
   "execution_count": 12,
   "metadata": {},
   "outputs": [],
   "source": [
    "data_teleo_0 = pd.read_csv(r\"D:\\eDNA\\data\\data\\Data12S\\FinetuningData\\RawData\\full_dataset_teleo.csv\")\n",
    "data_teleo_1 = pd.read_csv(r\"C:\\Users\\Auguste Verdier\\Desktop\\TeleoClassification\\data\\crabs\\12S\\teleo_12S_4.5\\teleo_output.tsv\", sep='\\t',header=None)\n",
    "data_teleo_2 = pd.read_csv(r\"C:\\Users\\Auguste Verdier\\Desktop\\TeleoClassification\\data\\crabs\\12S\\teleo_12S_4.5\\pga_4.5\\teleo_pga_45_output.tsv\", sep='\\t',header=None)\n",
    "data_teleo_3 = pd.read_csv(r\"C:\\Users\\Auguste Verdier\\Desktop\\TeleoClassification\\data\\crabs\\12S\\teleo_12S_6\\teleo_output.tsv\", sep='\\t',header=None)\n",
    "data_teleo_4 = pd.read_csv(r\"C:\\Users\\Auguste Verdier\\Desktop\\TeleoClassification\\data\\crabs\\12S\\teleo_12S_6\\pga_6\\teleo_pga_6_output.tsv\", sep='\\t',header=None)\n",
    "\n",
    "\n",
    "data_teleo_1.rename(columns={0:'ID_ncbi', 1:'ID', 2:'kingdom', 3:'phylum', 4:'class', 5:'order', 6:'family', 7:'genus', 8:'species', 9:'sequence'}, inplace=True)\n",
    "data_teleo_2.rename(columns={0:'ID_ncbi', 1:'ID', 2:'kingdom', 3:'phylum', 4:'class', 5:'order', 6:'family', 7:'genus', 8:'species', 9:'sequence'}, inplace=True)\n",
    "data_teleo_3.rename(columns={0:'ID_ncbi', 1:'ID', 2:'kingdom', 3:'phylum', 4:'class', 5:'order', 6:'family', 7:'genus', 8:'species', 9:'sequence'}, inplace=True)\n",
    "data_teleo_4.rename(columns={0:'ID_ncbi', 1:'ID', 2:'kingdom', 3:'phylum', 4:'class', 5:'order', 6:'family', 7:'genus', 8:'species', 9:'sequence'}, inplace=True)"
   ]
  },
  {
   "cell_type": "code",
   "execution_count": 13,
   "metadata": {},
   "outputs": [
    {
     "data": {
      "text/html": [
       "<div>\n",
       "<style scoped>\n",
       "    .dataframe tbody tr th:only-of-type {\n",
       "        vertical-align: middle;\n",
       "    }\n",
       "\n",
       "    .dataframe tbody tr th {\n",
       "        vertical-align: top;\n",
       "    }\n",
       "\n",
       "    .dataframe thead th {\n",
       "        text-align: right;\n",
       "    }\n",
       "</style>\n",
       "<table border=\"1\" class=\"dataframe\">\n",
       "  <thead>\n",
       "    <tr style=\"text-align: right;\">\n",
       "      <th></th>\n",
       "      <th>sequence</th>\n",
       "      <th>phylum</th>\n",
       "      <th>class</th>\n",
       "      <th>order</th>\n",
       "      <th>family</th>\n",
       "      <th>genus</th>\n",
       "      <th>species</th>\n",
       "    </tr>\n",
       "  </thead>\n",
       "  <tbody>\n",
       "    <tr>\n",
       "      <th>0</th>\n",
       "      <td>CCCCAAACAATAAACACACGAAACTAACTAAAATGCTTCGAACCGT...</td>\n",
       "      <td>Chordata</td>\n",
       "      <td>Actinopteri</td>\n",
       "      <td>Scombriformes</td>\n",
       "      <td>Gempylidae</td>\n",
       "      <td>Promethichthys</td>\n",
       "      <td>Promethichthysprometheus</td>\n",
       "    </tr>\n",
       "    <tr>\n",
       "      <th>1</th>\n",
       "      <td>CTTCAATAGCACACTTTAATTAATAATCCTTAGAAGCACCTTAGAA...</td>\n",
       "      <td>Chordata</td>\n",
       "      <td>Amphibia</td>\n",
       "      <td>Anura</td>\n",
       "      <td>Mantellidae</td>\n",
       "      <td>Guibemantis</td>\n",
       "      <td>Guibemantisliber</td>\n",
       "    </tr>\n",
       "  </tbody>\n",
       "</table>\n",
       "</div>"
      ],
      "text/plain": [
       "                                            sequence    phylum        class  \\\n",
       "0  CCCCAAACAATAAACACACGAAACTAACTAAAATGCTTCGAACCGT...  Chordata  Actinopteri   \n",
       "1  CTTCAATAGCACACTTTAATTAATAATCCTTAGAAGCACCTTAGAA...  Chordata     Amphibia   \n",
       "\n",
       "           order       family           genus                   species  \n",
       "0  Scombriformes   Gempylidae  Promethichthys  Promethichthysprometheus  \n",
       "1          Anura  Mantellidae     Guibemantis          Guibemantisliber  "
      ]
     },
     "execution_count": 13,
     "metadata": {},
     "output_type": "execute_result"
    }
   ],
   "source": [
    "data_teleo_0.head(2)\n"
   ]
  },
  {
   "cell_type": "code",
   "execution_count": 14,
   "metadata": {},
   "outputs": [
    {
     "data": {
      "text/html": [
       "<div>\n",
       "<style scoped>\n",
       "    .dataframe tbody tr th:only-of-type {\n",
       "        vertical-align: middle;\n",
       "    }\n",
       "\n",
       "    .dataframe tbody tr th {\n",
       "        vertical-align: top;\n",
       "    }\n",
       "\n",
       "    .dataframe thead th {\n",
       "        text-align: right;\n",
       "    }\n",
       "</style>\n",
       "<table border=\"1\" class=\"dataframe\">\n",
       "  <thead>\n",
       "    <tr style=\"text-align: right;\">\n",
       "      <th></th>\n",
       "      <th>ID_ncbi</th>\n",
       "      <th>ID</th>\n",
       "      <th>kingdom</th>\n",
       "      <th>phylum</th>\n",
       "      <th>class</th>\n",
       "      <th>order</th>\n",
       "      <th>family</th>\n",
       "      <th>genus</th>\n",
       "      <th>species</th>\n",
       "      <th>sequence</th>\n",
       "    </tr>\n",
       "  </thead>\n",
       "  <tbody>\n",
       "    <tr>\n",
       "      <th>0</th>\n",
       "      <td>AB054127.1.71.1024</td>\n",
       "      <td>1604542</td>\n",
       "      <td>Eukaryota</td>\n",
       "      <td>Chordata</td>\n",
       "      <td>Actinopteri</td>\n",
       "      <td>Siluriformes</td>\n",
       "      <td>Bagridae</td>\n",
       "      <td>Tachysurus</td>\n",
       "      <td>Tachysurus_tokiensis</td>\n",
       "      <td>CCCCACATTTATAACTACCCAATATATAATAAAACACATAATTACA...</td>\n",
       "    </tr>\n",
       "    <tr>\n",
       "      <th>1</th>\n",
       "      <td>AB558943.1.&lt;1.890</td>\n",
       "      <td>887481</td>\n",
       "      <td>Eukaryota</td>\n",
       "      <td>Chordata</td>\n",
       "      <td>Amphibia</td>\n",
       "      <td>Anura</td>\n",
       "      <td>Dicroglossidae</td>\n",
       "      <td>Limnonectes</td>\n",
       "      <td>Limnonectes_jarujini</td>\n",
       "      <td>CTTCAACAGCACATAATGTGTATTTAACAATTTTTGCACTTTAGAA...</td>\n",
       "    </tr>\n",
       "  </tbody>\n",
       "</table>\n",
       "</div>"
      ],
      "text/plain": [
       "              ID_ncbi       ID    kingdom    phylum        class  \\\n",
       "0  AB054127.1.71.1024  1604542  Eukaryota  Chordata  Actinopteri   \n",
       "1   AB558943.1.<1.890   887481  Eukaryota  Chordata     Amphibia   \n",
       "\n",
       "          order          family        genus               species  \\\n",
       "0  Siluriformes        Bagridae   Tachysurus  Tachysurus_tokiensis   \n",
       "1         Anura  Dicroglossidae  Limnonectes  Limnonectes_jarujini   \n",
       "\n",
       "                                            sequence  \n",
       "0  CCCCACATTTATAACTACCCAATATATAATAAAACACATAATTACA...  \n",
       "1  CTTCAACAGCACATAATGTGTATTTAACAATTTTTGCACTTTAGAA...  "
      ]
     },
     "execution_count": 14,
     "metadata": {},
     "output_type": "execute_result"
    }
   ],
   "source": [
    "data_teleo_1.head(2)"
   ]
  },
  {
   "cell_type": "code",
   "execution_count": 15,
   "metadata": {},
   "outputs": [
    {
     "data": {
      "text/html": [
       "<div>\n",
       "<style scoped>\n",
       "    .dataframe tbody tr th:only-of-type {\n",
       "        vertical-align: middle;\n",
       "    }\n",
       "\n",
       "    .dataframe tbody tr th {\n",
       "        vertical-align: top;\n",
       "    }\n",
       "\n",
       "    .dataframe thead th {\n",
       "        text-align: right;\n",
       "    }\n",
       "</style>\n",
       "<table border=\"1\" class=\"dataframe\">\n",
       "  <thead>\n",
       "    <tr style=\"text-align: right;\">\n",
       "      <th></th>\n",
       "      <th>ID_ncbi</th>\n",
       "      <th>ID</th>\n",
       "      <th>kingdom</th>\n",
       "      <th>phylum</th>\n",
       "      <th>class</th>\n",
       "      <th>order</th>\n",
       "      <th>family</th>\n",
       "      <th>genus</th>\n",
       "      <th>species</th>\n",
       "      <th>sequence</th>\n",
       "    </tr>\n",
       "  </thead>\n",
       "  <tbody>\n",
       "    <tr>\n",
       "      <th>0</th>\n",
       "      <td>AB054127.1.71.1024</td>\n",
       "      <td>1604542</td>\n",
       "      <td>Eukaryota</td>\n",
       "      <td>Chordata</td>\n",
       "      <td>Actinopteri</td>\n",
       "      <td>Siluriformes</td>\n",
       "      <td>Bagridae</td>\n",
       "      <td>Tachysurus</td>\n",
       "      <td>Tachysurus_tokiensis</td>\n",
       "      <td>CCCCACATTTATAACTACCCAATATATAATAAAACACATAATTACA...</td>\n",
       "    </tr>\n",
       "    <tr>\n",
       "      <th>1</th>\n",
       "      <td>AB558943.1.&lt;1.890</td>\n",
       "      <td>887481</td>\n",
       "      <td>Eukaryota</td>\n",
       "      <td>Chordata</td>\n",
       "      <td>Amphibia</td>\n",
       "      <td>Anura</td>\n",
       "      <td>Dicroglossidae</td>\n",
       "      <td>Limnonectes</td>\n",
       "      <td>Limnonectes_jarujini</td>\n",
       "      <td>CTTCAACAGCACATAATGTGTATTTAACAATTTTTGCACTTTAGAA...</td>\n",
       "    </tr>\n",
       "  </tbody>\n",
       "</table>\n",
       "</div>"
      ],
      "text/plain": [
       "              ID_ncbi       ID    kingdom    phylum        class  \\\n",
       "0  AB054127.1.71.1024  1604542  Eukaryota  Chordata  Actinopteri   \n",
       "1   AB558943.1.<1.890   887481  Eukaryota  Chordata     Amphibia   \n",
       "\n",
       "          order          family        genus               species  \\\n",
       "0  Siluriformes        Bagridae   Tachysurus  Tachysurus_tokiensis   \n",
       "1         Anura  Dicroglossidae  Limnonectes  Limnonectes_jarujini   \n",
       "\n",
       "                                            sequence  \n",
       "0  CCCCACATTTATAACTACCCAATATATAATAAAACACATAATTACA...  \n",
       "1  CTTCAACAGCACATAATGTGTATTTAACAATTTTTGCACTTTAGAA...  "
      ]
     },
     "execution_count": 15,
     "metadata": {},
     "output_type": "execute_result"
    }
   ],
   "source": [
    "data_teleo_2.head(2)"
   ]
  },
  {
   "cell_type": "code",
   "execution_count": 16,
   "metadata": {},
   "outputs": [
    {
     "data": {
      "text/html": [
       "<div>\n",
       "<style scoped>\n",
       "    .dataframe tbody tr th:only-of-type {\n",
       "        vertical-align: middle;\n",
       "    }\n",
       "\n",
       "    .dataframe tbody tr th {\n",
       "        vertical-align: top;\n",
       "    }\n",
       "\n",
       "    .dataframe thead th {\n",
       "        text-align: right;\n",
       "    }\n",
       "</style>\n",
       "<table border=\"1\" class=\"dataframe\">\n",
       "  <thead>\n",
       "    <tr style=\"text-align: right;\">\n",
       "      <th></th>\n",
       "      <th>ID_ncbi</th>\n",
       "      <th>ID</th>\n",
       "      <th>kingdom</th>\n",
       "      <th>phylum</th>\n",
       "      <th>class</th>\n",
       "      <th>order</th>\n",
       "      <th>family</th>\n",
       "      <th>genus</th>\n",
       "      <th>species</th>\n",
       "      <th>sequence</th>\n",
       "    </tr>\n",
       "  </thead>\n",
       "  <tbody>\n",
       "    <tr>\n",
       "      <th>0</th>\n",
       "      <td>AB054127.1.71.1024</td>\n",
       "      <td>1604542</td>\n",
       "      <td>Eukaryota</td>\n",
       "      <td>Chordata</td>\n",
       "      <td>Actinopteri</td>\n",
       "      <td>Siluriformes</td>\n",
       "      <td>Bagridae</td>\n",
       "      <td>Tachysurus</td>\n",
       "      <td>Tachysurus_tokiensis</td>\n",
       "      <td>CCCCACATTTATAACTACCCAATATATAATAAAACACATAATTACA...</td>\n",
       "    </tr>\n",
       "    <tr>\n",
       "      <th>1</th>\n",
       "      <td>AB558943.1.&lt;1.890</td>\n",
       "      <td>887481</td>\n",
       "      <td>Eukaryota</td>\n",
       "      <td>Chordata</td>\n",
       "      <td>Amphibia</td>\n",
       "      <td>Anura</td>\n",
       "      <td>Dicroglossidae</td>\n",
       "      <td>Limnonectes</td>\n",
       "      <td>Limnonectes_jarujini</td>\n",
       "      <td>CTTCAACAGCACATAATGTGTATTTAACAATTTTTGCACTTTAGAA...</td>\n",
       "    </tr>\n",
       "  </tbody>\n",
       "</table>\n",
       "</div>"
      ],
      "text/plain": [
       "              ID_ncbi       ID    kingdom    phylum        class  \\\n",
       "0  AB054127.1.71.1024  1604542  Eukaryota  Chordata  Actinopteri   \n",
       "1   AB558943.1.<1.890   887481  Eukaryota  Chordata     Amphibia   \n",
       "\n",
       "          order          family        genus               species  \\\n",
       "0  Siluriformes        Bagridae   Tachysurus  Tachysurus_tokiensis   \n",
       "1         Anura  Dicroglossidae  Limnonectes  Limnonectes_jarujini   \n",
       "\n",
       "                                            sequence  \n",
       "0  CCCCACATTTATAACTACCCAATATATAATAAAACACATAATTACA...  \n",
       "1  CTTCAACAGCACATAATGTGTATTTAACAATTTTTGCACTTTAGAA...  "
      ]
     },
     "execution_count": 16,
     "metadata": {},
     "output_type": "execute_result"
    }
   ],
   "source": [
    "data_teleo_3.head(2)"
   ]
  },
  {
   "cell_type": "code",
   "execution_count": 17,
   "metadata": {},
   "outputs": [
    {
     "data": {
      "text/html": [
       "<div>\n",
       "<style scoped>\n",
       "    .dataframe tbody tr th:only-of-type {\n",
       "        vertical-align: middle;\n",
       "    }\n",
       "\n",
       "    .dataframe tbody tr th {\n",
       "        vertical-align: top;\n",
       "    }\n",
       "\n",
       "    .dataframe thead th {\n",
       "        text-align: right;\n",
       "    }\n",
       "</style>\n",
       "<table border=\"1\" class=\"dataframe\">\n",
       "  <thead>\n",
       "    <tr style=\"text-align: right;\">\n",
       "      <th></th>\n",
       "      <th>ID_ncbi</th>\n",
       "      <th>ID</th>\n",
       "      <th>kingdom</th>\n",
       "      <th>phylum</th>\n",
       "      <th>class</th>\n",
       "      <th>order</th>\n",
       "      <th>family</th>\n",
       "      <th>genus</th>\n",
       "      <th>species</th>\n",
       "      <th>sequence</th>\n",
       "    </tr>\n",
       "  </thead>\n",
       "  <tbody>\n",
       "    <tr>\n",
       "      <th>0</th>\n",
       "      <td>AB054127.1.71.1024</td>\n",
       "      <td>1604542</td>\n",
       "      <td>Eukaryota</td>\n",
       "      <td>Chordata</td>\n",
       "      <td>Actinopteri</td>\n",
       "      <td>Siluriformes</td>\n",
       "      <td>Bagridae</td>\n",
       "      <td>Tachysurus</td>\n",
       "      <td>Tachysurus_tokiensis</td>\n",
       "      <td>CCCCACATTTATAACTACCCAATATATAATAAAACACATAATTACA...</td>\n",
       "    </tr>\n",
       "    <tr>\n",
       "      <th>1</th>\n",
       "      <td>AB558943.1.&lt;1.890</td>\n",
       "      <td>887481</td>\n",
       "      <td>Eukaryota</td>\n",
       "      <td>Chordata</td>\n",
       "      <td>Amphibia</td>\n",
       "      <td>Anura</td>\n",
       "      <td>Dicroglossidae</td>\n",
       "      <td>Limnonectes</td>\n",
       "      <td>Limnonectes_jarujini</td>\n",
       "      <td>CTTCAACAGCACATAATGTGTATTTAACAATTTTTGCACTTTAGAA...</td>\n",
       "    </tr>\n",
       "  </tbody>\n",
       "</table>\n",
       "</div>"
      ],
      "text/plain": [
       "              ID_ncbi       ID    kingdom    phylum        class  \\\n",
       "0  AB054127.1.71.1024  1604542  Eukaryota  Chordata  Actinopteri   \n",
       "1   AB558943.1.<1.890   887481  Eukaryota  Chordata     Amphibia   \n",
       "\n",
       "          order          family        genus               species  \\\n",
       "0  Siluriformes        Bagridae   Tachysurus  Tachysurus_tokiensis   \n",
       "1         Anura  Dicroglossidae  Limnonectes  Limnonectes_jarujini   \n",
       "\n",
       "                                            sequence  \n",
       "0  CCCCACATTTATAACTACCCAATATATAATAAAACACATAATTACA...  \n",
       "1  CTTCAACAGCACATAATGTGTATTTAACAATTTTTGCACTTTAGAA...  "
      ]
     },
     "execution_count": 17,
     "metadata": {},
     "output_type": "execute_result"
    }
   ],
   "source": [
    "data_teleo_4.head(2)"
   ]
  },
  {
   "cell_type": "code",
   "execution_count": 18,
   "metadata": {},
   "outputs": [
    {
     "name": "stdout",
     "output_type": "stream",
     "text": [
      "nombre d'échantillon : 114567\n",
      "nombre unique sequence : 18640\n",
      "taille max de séquence : 808\n",
      "taille min de sequence : 18\n",
      "nombre de genus : 6480\n",
      "nombre de famille : 1372\n",
      "nombre de order : 258\n",
      "nombre de class : 46\n",
      "nombre de phylum : 16\n",
      "nombre d\"espèce : 17068\n"
     ]
    }
   ],
   "source": [
    "info_dataframe(data_teleo_0)"
   ]
  },
  {
   "cell_type": "code",
   "execution_count": 19,
   "metadata": {},
   "outputs": [
    {
     "name": "stdout",
     "output_type": "stream",
     "text": [
      "nombre d'échantillon : 118241\n",
      "nombre unique sequence : 19124\n",
      "taille max de séquence : 808\n",
      "taille min de sequence : 18\n",
      "nombre de genus : 6630\n",
      "nombre de famille : 1392\n",
      "nombre de order : 262\n",
      "nombre de class : 46\n",
      "nombre de phylum : 16\n",
      "nombre d\"espèce : 17568\n"
     ]
    }
   ],
   "source": [
    "info_dataframe(data_teleo_1)"
   ]
  },
  {
   "cell_type": "code",
   "execution_count": 20,
   "metadata": {},
   "outputs": [
    {
     "name": "stdout",
     "output_type": "stream",
     "text": [
      "nombre d'échantillon : 124127\n",
      "nombre unique sequence : 20949\n",
      "taille max de séquence : 808\n",
      "taille min de sequence : 12\n",
      "nombre de genus : 6668\n",
      "nombre de famille : 1396\n",
      "nombre de order : 263\n",
      "nombre de class : 46\n",
      "nombre de phylum : 16\n",
      "nombre d\"espèce : 18123\n"
     ]
    }
   ],
   "source": [
    "info_dataframe(data_teleo_2)"
   ]
  },
  {
   "cell_type": "code",
   "execution_count": 21,
   "metadata": {},
   "outputs": [
    {
     "name": "stdout",
     "output_type": "stream",
     "text": [
      "nombre d'échantillon : 142692\n",
      "nombre unique sequence : 24475\n",
      "taille max de séquence : 1925\n",
      "taille min de sequence : 13\n",
      "nombre de genus : 10717\n",
      "nombre de famille : 2382\n",
      "nombre de order : 481\n",
      "nombre de class : 111\n",
      "nombre de phylum : 39\n",
      "nombre d\"espèce : 26099\n"
     ]
    }
   ],
   "source": [
    "info_dataframe(data_teleo_3)"
   ]
  },
  {
   "cell_type": "code",
   "execution_count": 22,
   "metadata": {},
   "outputs": [
    {
     "name": "stdout",
     "output_type": "stream",
     "text": [
      "nombre d'échantillon : 184758\n",
      "nombre unique sequence : 44964\n",
      "taille max de séquence : 1925\n",
      "taille min de sequence : 13\n",
      "nombre de genus : 12234\n",
      "nombre de famille : 2579\n",
      "nombre de order : 521\n",
      "nombre de class : 112\n",
      "nombre de phylum : 39\n",
      "nombre d\"espèce : 32041\n"
     ]
    }
   ],
   "source": [
    "info_dataframe(data_teleo_4)"
   ]
  },
  {
   "cell_type": "markdown",
   "metadata": {},
   "source": [
    "# 12S only fish"
   ]
  },
  {
   "cell_type": "code",
   "execution_count": 21,
   "metadata": {},
   "outputs": [],
   "source": [
    "f_data_teleo_0 = data_teleo_0[(data_teleo_0['class'] == 'Actinopteri') | (data_teleo_0['class'] == 'Chondrichthyes')]\n",
    "f_data_teleo_1 = data_teleo_1[(data_teleo_1['class'] == 'Actinopteri') | (data_teleo_1['class'] == 'Chondrichthyes')]\n",
    "f_data_teleo_2 = data_teleo_2[(data_teleo_2['class'] == 'Actinopteri') | (data_teleo_2['class'] == 'Chondrichthyes')]\n",
    "f_data_teleo_3 = data_teleo_3[(data_teleo_3['class'] == 'Actinopteri') | (data_teleo_3['class'] == 'Chondrichthyes')]\n",
    "f_data_teleo_4 = data_teleo_4[(data_teleo_4['class'] == 'Actinopteri') | (data_teleo_4['class'] == 'Chondrichthyes')]"
   ]
  },
  {
   "cell_type": "code",
   "execution_count": 22,
   "metadata": {},
   "outputs": [
    {
     "name": "stdout",
     "output_type": "stream",
     "text": [
      "nombre d'échantillon : 18687\n",
      "nombre unique sequence : 7470\n",
      "taille max de séquence : 129\n",
      "taille min de sequence : 25\n",
      "nombre de genus : 2728\n",
      "nombre de famille : 499\n",
      "nombre de order : 81\n",
      "nombre de class : 2\n",
      "nombre de phylum : 1\n",
      "nombre d\"espèce : 7425\n"
     ]
    }
   ],
   "source": [
    "info_dataframe(f_data_teleo_0)"
   ]
  },
  {
   "cell_type": "code",
   "execution_count": 23,
   "metadata": {},
   "outputs": [
    {
     "name": "stdout",
     "output_type": "stream",
     "text": [
      "nombre d'échantillon : 19810\n",
      "nombre unique sequence : 7692\n",
      "taille max de séquence : 129\n",
      "taille min de sequence : 25\n",
      "nombre de genus : 2768\n",
      "nombre de famille : 503\n",
      "nombre de order : 81\n",
      "nombre de class : 2\n",
      "nombre de phylum : 1\n",
      "nombre d\"espèce : 7647\n"
     ]
    }
   ],
   "source": [
    "info_dataframe(f_data_teleo_1)"
   ]
  },
  {
   "cell_type": "code",
   "execution_count": 24,
   "metadata": {},
   "outputs": [
    {
     "name": "stdout",
     "output_type": "stream",
     "text": [
      "nombre d'échantillon : 23226\n",
      "nombre unique sequence : 8495\n",
      "taille max de séquence : 129\n",
      "taille min de sequence : 19\n",
      "nombre de genus : 2783\n",
      "nombre de famille : 504\n",
      "nombre de order : 81\n",
      "nombre de class : 2\n",
      "nombre de phylum : 1\n",
      "nombre d\"espèce : 7981\n"
     ]
    }
   ],
   "source": [
    "info_dataframe(f_data_teleo_2)"
   ]
  },
  {
   "cell_type": "code",
   "execution_count": 25,
   "metadata": {},
   "outputs": [
    {
     "name": "stdout",
     "output_type": "stream",
     "text": [
      "nombre d'échantillon : 19869\n",
      "nombre unique sequence : 7734\n",
      "taille max de séquence : 663\n",
      "taille min de sequence : 25\n",
      "nombre de genus : 2771\n",
      "nombre de famille : 503\n",
      "nombre de order : 81\n",
      "nombre de class : 2\n",
      "nombre de phylum : 1\n",
      "nombre d\"espèce : 7666\n"
     ]
    }
   ],
   "source": [
    "info_dataframe(f_data_teleo_3)"
   ]
  },
  {
   "cell_type": "code",
   "execution_count": 26,
   "metadata": {},
   "outputs": [
    {
     "name": "stdout",
     "output_type": "stream",
     "text": [
      "nombre d'échantillon : 36883\n",
      "nombre unique sequence : 15920\n",
      "taille max de séquence : 663\n",
      "taille min de sequence : 25\n",
      "nombre de genus : 3249\n",
      "nombre de famille : 528\n",
      "nombre de order : 81\n",
      "nombre de class : 2\n",
      "nombre de phylum : 1\n",
      "nombre d\"espèce : 10305\n"
     ]
    }
   ],
   "source": [
    "info_dataframe(f_data_teleo_4)"
   ]
  },
  {
   "cell_type": "code",
   "execution_count": 72,
   "metadata": {},
   "outputs": [
    {
     "data": {
      "text/plain": [
       "10471"
      ]
     },
     "execution_count": 72,
     "metadata": {},
     "output_type": "execute_result"
    }
   ],
   "source": [
    "f_data_teleo_4[\"ID\"].nunique()"
   ]
  },
  {
   "cell_type": "code",
   "execution_count": 28,
   "metadata": {},
   "outputs": [
    {
     "name": "stdout",
     "output_type": "stream",
     "text": [
      "nombre d'échantillon : 7533\n",
      "nombre unique sequence : 7533\n",
      "taille max de séquence : 479\n",
      "taille min de sequence : 63\n",
      "nombre de genus : 2096\n",
      "nombre de famille : 450\n",
      "nombre de order : 79\n",
      "nombre de class : 2\n",
      "nombre de phylum : 1\n",
      "nombre d\"espèce : 5066\n"
     ]
    }
   ],
   "source": [
    "unique_sequences = f_data_teleo_4[~f_data_teleo_4['sequence'].isin(f_data_teleo_0['sequence']) &\n",
    "                                ~f_data_teleo_4['sequence'].isin(f_data_teleo_1['sequence']) &\n",
    "                                ~f_data_teleo_4['sequence'].isin(f_data_teleo_2['sequence']) &\n",
    "                                ~f_data_teleo_4['sequence'].isin(f_data_teleo_3['sequence'])]\n",
    "\n",
    "unique_sequences = unique_sequences.drop_duplicates(subset='sequence', keep='first')\n",
    "info_dataframe(unique_sequences)"
   ]
  },
  {
   "cell_type": "code",
   "execution_count": 51,
   "metadata": {},
   "outputs": [],
   "source": [
    "unique_sequences.to_csv(r\"C:\\Users\\Auguste Verdier\\Desktop\\TeleoClassification\\data\\crabs\\12S\\teleo_12S_6\\pga_6\\unique_sequences.csv\", sep='\\t', index=False, header=True)"
   ]
  },
  {
   "cell_type": "code",
   "execution_count": 52,
   "metadata": {},
   "outputs": [
    {
     "name": "stdout",
     "output_type": "stream",
     "text": [
      "['CCCCAAACTAGCCAAATTCATTTAAATAAAAACTTATTATAGTAAAGGGGAGGCAAGTCGTAA'\n",
      " 'CTCCAAGCCTACTATTCTCAATAACTAATATAACACCAACTGCAAAGGAGAGGCAAGTCGTAA'\n",
      " 'CCTCAAGTACCAGGATGCGTACTACCAACCATATTGCTATAACGCACAGACATATGAGAGGAGATAAGTCGTAA'\n",
      " 'CCCCAAGCTTAAATAAAAAANTTTATAATAACCTAAAAANGCAAAGGGGAGGCAAGTCGTAA']\n"
     ]
    }
   ],
   "source": [
    "unique_sequences = f_data_teleo_0[~f_data_teleo_0['sequence'].isin(f_data_teleo_4['sequence'])]\n",
    "print(unique_sequences[\"sequence\"].unique())"
   ]
  },
  {
   "cell_type": "markdown",
   "metadata": {},
   "source": [
    "# Fish Base"
   ]
  },
  {
   "cell_type": "code",
   "execution_count": 36,
   "metadata": {},
   "outputs": [
    {
     "name": "stdout",
     "output_type": "stream",
     "text": [
      "(869295, 10)\n"
     ]
    }
   ],
   "source": [
    "data_teleo_fb = pd.read_csv(r\"C:\\Users\\Auguste Verdier\\Desktop\\TeleoClassification\\data\\crabs\\fish_base\\teleo_fb_45_output.tsv\", sep='\\t',header=None)\n",
    "data_teleo_fb.rename(columns={0:'ID_ncbi', 1:'ID', 2:'kingdom', 3:'phylum', 4:'class', 5:'order', 6:'family', 7:'genus', 8:'species', 9:'sequence'}, inplace=True)\n",
    "data_teleo_fb.sample(2)\n",
    "\n",
    "\n",
    "fb_12S = pd.read_csv(r\"C:\\Users\\Auguste Verdier\\Desktop\\TeleoClassification\\data\\crabs\\fish_base\\output.tsv\", sep='\\t',header=None)\n",
    "fb_12S.rename(columns={0:'ID_ncbi', 1:'ID', 2:'kingdom', 3:'phylum', 4:'class', 5:'order', 6:'family', 7:'genus', 8:'species', 9:'sequence'}, inplace=True)\n",
    "print(fb_12S.shape)"
   ]
  },
  {
   "cell_type": "code",
   "execution_count": 37,
   "metadata": {},
   "outputs": [
    {
     "name": "stdout",
     "output_type": "stream",
     "text": [
      "nombre d'échantillon : 869295\n",
      "nombre unique sequence : 537425\n",
      "taille max de séquence : 25498\n",
      "taille min de sequence : 25\n",
      "nombre de genus : 4560\n",
      "nombre de famille : 565\n",
      "nombre de order : 86\n",
      "nombre de class : 5\n",
      "nombre de phylum : 1\n",
      "nombre d\"espèce : 44246\n"
     ]
    }
   ],
   "source": [
    "info_dataframe(fb_12S)"
   ]
  },
  {
   "cell_type": "code",
   "execution_count": 74,
   "metadata": {},
   "outputs": [
    {
     "name": "stdout",
     "output_type": "stream",
     "text": [
      "nombre d'échantillon : 21834\n",
      "nombre unique sequence : 8396\n",
      "taille max de séquence : 129\n",
      "taille min de sequence : 13\n",
      "nombre de genus : 2857\n",
      "nombre de famille : 516\n",
      "nombre de order : 86\n",
      "nombre de class : 5\n",
      "nombre de phylum : 1\n",
      "nombre d\"espèce : 8516\n"
     ]
    }
   ],
   "source": [
    "info_dataframe(data_teleo_fb)"
   ]
  },
  {
   "cell_type": "code",
   "execution_count": 75,
   "metadata": {},
   "outputs": [
    {
     "data": {
      "text/html": [
       "<div>\n",
       "<style scoped>\n",
       "    .dataframe tbody tr th:only-of-type {\n",
       "        vertical-align: middle;\n",
       "    }\n",
       "\n",
       "    .dataframe tbody tr th {\n",
       "        vertical-align: top;\n",
       "    }\n",
       "\n",
       "    .dataframe thead th {\n",
       "        text-align: right;\n",
       "    }\n",
       "</style>\n",
       "<table border=\"1\" class=\"dataframe\">\n",
       "  <thead>\n",
       "    <tr style=\"text-align: right;\">\n",
       "      <th></th>\n",
       "      <th>ID_ncbi</th>\n",
       "      <th>ID</th>\n",
       "      <th>kingdom</th>\n",
       "      <th>phylum</th>\n",
       "      <th>class</th>\n",
       "      <th>order</th>\n",
       "      <th>family</th>\n",
       "      <th>genus</th>\n",
       "      <th>species</th>\n",
       "      <th>sequence</th>\n",
       "    </tr>\n",
       "  </thead>\n",
       "  <tbody>\n",
       "    <tr>\n",
       "      <th>3601</th>\n",
       "      <td>MH301078</td>\n",
       "      <td>8167</td>\n",
       "      <td>Eukaryota</td>\n",
       "      <td>Chordata</td>\n",
       "      <td>Actinopteri</td>\n",
       "      <td>Perciformes</td>\n",
       "      <td>Percidae</td>\n",
       "      <td>Perca</td>\n",
       "      <td>Perca_flavescens</td>\n",
       "      <td>CCCCAAGCCTACCAACTAAAATAATTAAAACCCTATAATTGCGAAG...</td>\n",
       "    </tr>\n",
       "    <tr>\n",
       "      <th>11923</th>\n",
       "      <td>EF100186</td>\n",
       "      <td>7781</td>\n",
       "      <td>Eukaryota</td>\n",
       "      <td>Chordata</td>\n",
       "      <td>Chondrichthyes</td>\n",
       "      <td>Rajiformes</td>\n",
       "      <td>Rajidae</td>\n",
       "      <td>Raja</td>\n",
       "      <td>Raja_clavata</td>\n",
       "      <td>CCTCAACTTACATCACTCCATTTTATAAATAACTTTTTATCACAAG...</td>\n",
       "    </tr>\n",
       "  </tbody>\n",
       "</table>\n",
       "</div>"
      ],
      "text/plain": [
       "        ID_ncbi    ID    kingdom    phylum           class        order  \\\n",
       "3601   MH301078  8167  Eukaryota  Chordata     Actinopteri  Perciformes   \n",
       "11923  EF100186  7781  Eukaryota  Chordata  Chondrichthyes   Rajiformes   \n",
       "\n",
       "         family  genus           species  \\\n",
       "3601   Percidae  Perca  Perca_flavescens   \n",
       "11923   Rajidae   Raja      Raja_clavata   \n",
       "\n",
       "                                                sequence  \n",
       "3601   CCCCAAGCCTACCAACTAAAATAATTAAAACCCTATAATTGCGAAG...  \n",
       "11923  CCTCAACTTACATCACTCCATTTTATAAATAACTTTTTATCACAAG...  "
      ]
     },
     "execution_count": 75,
     "metadata": {},
     "output_type": "execute_result"
    }
   ],
   "source": [
    "data_teleo_fb.sample(2)"
   ]
  },
  {
   "cell_type": "code",
   "execution_count": 77,
   "metadata": {},
   "outputs": [
    {
     "data": {
      "text/html": [
       "<div>\n",
       "<style scoped>\n",
       "    .dataframe tbody tr th:only-of-type {\n",
       "        vertical-align: middle;\n",
       "    }\n",
       "\n",
       "    .dataframe tbody tr th {\n",
       "        vertical-align: top;\n",
       "    }\n",
       "\n",
       "    .dataframe thead th {\n",
       "        text-align: right;\n",
       "    }\n",
       "</style>\n",
       "<table border=\"1\" class=\"dataframe\">\n",
       "  <thead>\n",
       "    <tr style=\"text-align: right;\">\n",
       "      <th></th>\n",
       "      <th>sequence</th>\n",
       "      <th>phylum</th>\n",
       "      <th>class</th>\n",
       "      <th>order</th>\n",
       "      <th>family</th>\n",
       "      <th>genus</th>\n",
       "      <th>species</th>\n",
       "    </tr>\n",
       "  </thead>\n",
       "  <tbody>\n",
       "    <tr>\n",
       "      <th>4498</th>\n",
       "      <td>CTCCAAATAAACCCTAGATATTACCTAAAATGCTTTTTATAATAAG...</td>\n",
       "      <td>Chordata</td>\n",
       "      <td>Actinopteri</td>\n",
       "      <td>Gadiformes</td>\n",
       "      <td>Gadidae</td>\n",
       "      <td>Gadus</td>\n",
       "      <td>Gadusogac</td>\n",
       "    </tr>\n",
       "    <tr>\n",
       "      <th>6737</th>\n",
       "      <td>CTCCAAATAAACCCTAGATATTACCTAAAATGCTTTTTATAATAAG...</td>\n",
       "      <td>Chordata</td>\n",
       "      <td>Actinopteri</td>\n",
       "      <td>Gadiformes</td>\n",
       "      <td>Gadidae</td>\n",
       "      <td>Gadus</td>\n",
       "      <td>Gadusmacrocephalus</td>\n",
       "    </tr>\n",
       "    <tr>\n",
       "      <th>7154</th>\n",
       "      <td>CTCCAAATAAACCCTAGATATTACCTAAAATGCTTTTTATAATAAG...</td>\n",
       "      <td>Chordata</td>\n",
       "      <td>Actinopteri</td>\n",
       "      <td>Gadiformes</td>\n",
       "      <td>Gadidae</td>\n",
       "      <td>Gadus</td>\n",
       "      <td>Gadusmorhua</td>\n",
       "    </tr>\n",
       "    <tr>\n",
       "      <th>7155</th>\n",
       "      <td>CTCCAAATAAACCCTAGATATTACCTAAAATGCTTTTTATAATAAG...</td>\n",
       "      <td>Chordata</td>\n",
       "      <td>Actinopteri</td>\n",
       "      <td>Gadiformes</td>\n",
       "      <td>Gadidae</td>\n",
       "      <td>Gadus</td>\n",
       "      <td>Gadusmorhua</td>\n",
       "    </tr>\n",
       "    <tr>\n",
       "      <th>7156</th>\n",
       "      <td>CTCCAAATAAACCCTAGATATTACCTAAAATGCTTTTTATAATAAG...</td>\n",
       "      <td>Chordata</td>\n",
       "      <td>Actinopteri</td>\n",
       "      <td>Gadiformes</td>\n",
       "      <td>Gadidae</td>\n",
       "      <td>Gadus</td>\n",
       "      <td>Gadusmorhua</td>\n",
       "    </tr>\n",
       "    <tr>\n",
       "      <th>...</th>\n",
       "      <td>...</td>\n",
       "      <td>...</td>\n",
       "      <td>...</td>\n",
       "      <td>...</td>\n",
       "      <td>...</td>\n",
       "      <td>...</td>\n",
       "      <td>...</td>\n",
       "    </tr>\n",
       "    <tr>\n",
       "      <th>35755</th>\n",
       "      <td>CTCCAAATAAACCCTAGATATTACCTAAAATGCTTTTTATAATAAG...</td>\n",
       "      <td>Chordata</td>\n",
       "      <td>Actinopteri</td>\n",
       "      <td>Gadiformes</td>\n",
       "      <td>Gadidae</td>\n",
       "      <td>Gadus</td>\n",
       "      <td>Gadusmorhua</td>\n",
       "    </tr>\n",
       "    <tr>\n",
       "      <th>35792</th>\n",
       "      <td>CTCCAAATAAACCCTAGATATTACCTAAAATGCTTTTTATAATAAG...</td>\n",
       "      <td>Chordata</td>\n",
       "      <td>Actinopteri</td>\n",
       "      <td>Gadiformes</td>\n",
       "      <td>Gadidae</td>\n",
       "      <td>Gadus</td>\n",
       "      <td>Gadusmorhua</td>\n",
       "    </tr>\n",
       "    <tr>\n",
       "      <th>36026</th>\n",
       "      <td>CTCCAAATAAACCCTAGATATTACCTAAAATGCTTTTTATAATAAG...</td>\n",
       "      <td>Chordata</td>\n",
       "      <td>Actinopteri</td>\n",
       "      <td>Gadiformes</td>\n",
       "      <td>Gadidae</td>\n",
       "      <td>Gadus</td>\n",
       "      <td>Gadusmorhua</td>\n",
       "    </tr>\n",
       "    <tr>\n",
       "      <th>36365</th>\n",
       "      <td>CTCCAAATAAACCCTAGATATTACCTAAAATGCTTTTTATAATAAG...</td>\n",
       "      <td>Chordata</td>\n",
       "      <td>Actinopteri</td>\n",
       "      <td>Gadiformes</td>\n",
       "      <td>Gadidae</td>\n",
       "      <td>Gadus</td>\n",
       "      <td>Gaduschalcogrammus</td>\n",
       "    </tr>\n",
       "    <tr>\n",
       "      <th>36870</th>\n",
       "      <td>CTCCAAATAAACCCTAGATATTACCTAAAATGCTTTTTATAATAAG...</td>\n",
       "      <td>Chordata</td>\n",
       "      <td>Actinopteri</td>\n",
       "      <td>Gadiformes</td>\n",
       "      <td>Gadidae</td>\n",
       "      <td>Gadus</td>\n",
       "      <td>Gaduschalcogrammus</td>\n",
       "    </tr>\n",
       "  </tbody>\n",
       "</table>\n",
       "<p>338 rows × 7 columns</p>\n",
       "</div>"
      ],
      "text/plain": [
       "                                                sequence    phylum  \\\n",
       "4498   CTCCAAATAAACCCTAGATATTACCTAAAATGCTTTTTATAATAAG...  Chordata   \n",
       "6737   CTCCAAATAAACCCTAGATATTACCTAAAATGCTTTTTATAATAAG...  Chordata   \n",
       "7154   CTCCAAATAAACCCTAGATATTACCTAAAATGCTTTTTATAATAAG...  Chordata   \n",
       "7155   CTCCAAATAAACCCTAGATATTACCTAAAATGCTTTTTATAATAAG...  Chordata   \n",
       "7156   CTCCAAATAAACCCTAGATATTACCTAAAATGCTTTTTATAATAAG...  Chordata   \n",
       "...                                                  ...       ...   \n",
       "35755  CTCCAAATAAACCCTAGATATTACCTAAAATGCTTTTTATAATAAG...  Chordata   \n",
       "35792  CTCCAAATAAACCCTAGATATTACCTAAAATGCTTTTTATAATAAG...  Chordata   \n",
       "36026  CTCCAAATAAACCCTAGATATTACCTAAAATGCTTTTTATAATAAG...  Chordata   \n",
       "36365  CTCCAAATAAACCCTAGATATTACCTAAAATGCTTTTTATAATAAG...  Chordata   \n",
       "36870  CTCCAAATAAACCCTAGATATTACCTAAAATGCTTTTTATAATAAG...  Chordata   \n",
       "\n",
       "             class       order   family  genus             species  \n",
       "4498   Actinopteri  Gadiformes  Gadidae  Gadus           Gadusogac  \n",
       "6737   Actinopteri  Gadiformes  Gadidae  Gadus  Gadusmacrocephalus  \n",
       "7154   Actinopteri  Gadiformes  Gadidae  Gadus         Gadusmorhua  \n",
       "7155   Actinopteri  Gadiformes  Gadidae  Gadus         Gadusmorhua  \n",
       "7156   Actinopteri  Gadiformes  Gadidae  Gadus         Gadusmorhua  \n",
       "...            ...         ...      ...    ...                 ...  \n",
       "35755  Actinopteri  Gadiformes  Gadidae  Gadus         Gadusmorhua  \n",
       "35792  Actinopteri  Gadiformes  Gadidae  Gadus         Gadusmorhua  \n",
       "36026  Actinopteri  Gadiformes  Gadidae  Gadus         Gadusmorhua  \n",
       "36365  Actinopteri  Gadiformes  Gadidae  Gadus  Gaduschalcogrammus  \n",
       "36870  Actinopteri  Gadiformes  Gadidae  Gadus  Gaduschalcogrammus  \n",
       "\n",
       "[338 rows x 7 columns]"
      ]
     },
     "execution_count": 77,
     "metadata": {},
     "output_type": "execute_result"
    }
   ],
   "source": [
    "f_data_teleo_0[f_data_teleo_0['genus'] == \"Gadus\"]['species']"
   ]
  },
  {
   "cell_type": "code",
   "execution_count": 33,
   "metadata": {},
   "outputs": [
    {
     "data": {
      "text/html": [
       "<div>\n",
       "<style scoped>\n",
       "    .dataframe tbody tr th:only-of-type {\n",
       "        vertical-align: middle;\n",
       "    }\n",
       "\n",
       "    .dataframe tbody tr th {\n",
       "        vertical-align: top;\n",
       "    }\n",
       "\n",
       "    .dataframe thead th {\n",
       "        text-align: right;\n",
       "    }\n",
       "</style>\n",
       "<table border=\"1\" class=\"dataframe\">\n",
       "  <thead>\n",
       "    <tr style=\"text-align: right;\">\n",
       "      <th></th>\n",
       "      <th>ID_ncbi</th>\n",
       "      <th>ID</th>\n",
       "      <th>kingdom</th>\n",
       "      <th>phylum</th>\n",
       "      <th>class</th>\n",
       "      <th>order</th>\n",
       "      <th>family</th>\n",
       "      <th>genus</th>\n",
       "      <th>species</th>\n",
       "      <th>sequence</th>\n",
       "    </tr>\n",
       "  </thead>\n",
       "  <tbody>\n",
       "    <tr>\n",
       "      <th>0</th>\n",
       "      <td>KY213961</td>\n",
       "      <td>270547</td>\n",
       "      <td>Eukaryota</td>\n",
       "      <td>Chordata</td>\n",
       "      <td>Actinopteri</td>\n",
       "      <td>NaN</td>\n",
       "      <td>Centropomidae</td>\n",
       "      <td>Lates</td>\n",
       "      <td>Lates_japonicus</td>\n",
       "      <td>CCCCGAGCACCCGGCATAACATAAATAAAACCAAACGAACGCGAAG...</td>\n",
       "    </tr>\n",
       "    <tr>\n",
       "      <th>1</th>\n",
       "      <td>KY213962</td>\n",
       "      <td>8187</td>\n",
       "      <td>Eukaryota</td>\n",
       "      <td>Chordata</td>\n",
       "      <td>Actinopteri</td>\n",
       "      <td>NaN</td>\n",
       "      <td>Centropomidae</td>\n",
       "      <td>Lates</td>\n",
       "      <td>Lates_calcarifer</td>\n",
       "      <td>CCCCATAGCACCCGGCTAAAACATAAATAAAGCACAAACGAACGCT...</td>\n",
       "    </tr>\n",
       "    <tr>\n",
       "      <th>2</th>\n",
       "      <td>KY213963</td>\n",
       "      <td>29147</td>\n",
       "      <td>Eukaryota</td>\n",
       "      <td>Chordata</td>\n",
       "      <td>Actinopteri</td>\n",
       "      <td>NaN</td>\n",
       "      <td>Centropomidae</td>\n",
       "      <td>Lates</td>\n",
       "      <td>Lates_niloticus</td>\n",
       "      <td>CCCCAAGCACCCGGCATAATATACATAAAACCAAACGAACGCGAAG...</td>\n",
       "    </tr>\n",
       "    <tr>\n",
       "      <th>3</th>\n",
       "      <td>KY213964</td>\n",
       "      <td>329030</td>\n",
       "      <td>Eukaryota</td>\n",
       "      <td>Chordata</td>\n",
       "      <td>Actinopteri</td>\n",
       "      <td>NaN</td>\n",
       "      <td>Centropomidae</td>\n",
       "      <td>Psammoperca</td>\n",
       "      <td>Psammoperca_waigiensis</td>\n",
       "      <td>CCCCAAGACAGTAAAACGCAAGTAACTAAACCCAAACACAACACCA...</td>\n",
       "    </tr>\n",
       "    <tr>\n",
       "      <th>4</th>\n",
       "      <td>KY228977</td>\n",
       "      <td>1001936</td>\n",
       "      <td>Eukaryota</td>\n",
       "      <td>Chordata</td>\n",
       "      <td>Actinopteri</td>\n",
       "      <td>Cypriniformes</td>\n",
       "      <td>Gobionidae</td>\n",
       "      <td>Microphysogobio</td>\n",
       "      <td>Microphysogobio_amurensis</td>\n",
       "      <td>CCCCTGTCAACACGCATTATAAATACATAATATCAAAGCACTGACA...</td>\n",
       "    </tr>\n",
       "    <tr>\n",
       "      <th>...</th>\n",
       "      <td>...</td>\n",
       "      <td>...</td>\n",
       "      <td>...</td>\n",
       "      <td>...</td>\n",
       "      <td>...</td>\n",
       "      <td>...</td>\n",
       "      <td>...</td>\n",
       "      <td>...</td>\n",
       "      <td>...</td>\n",
       "      <td>...</td>\n",
       "    </tr>\n",
       "    <tr>\n",
       "      <th>21829</th>\n",
       "      <td>PP533446</td>\n",
       "      <td>192602</td>\n",
       "      <td>Eukaryota</td>\n",
       "      <td>Chordata</td>\n",
       "      <td>Actinopteri</td>\n",
       "      <td>Carangiformes</td>\n",
       "      <td>Carangidae</td>\n",
       "      <td>Trachurus</td>\n",
       "      <td>Trachurus_murphyi</td>\n",
       "      <td>CCCCAAGCTCCTGGACCCTAATCCTACTTAAACCGTAACAAATGCG...</td>\n",
       "    </tr>\n",
       "    <tr>\n",
       "      <th>21830</th>\n",
       "      <td>PP739582</td>\n",
       "      <td>1604517</td>\n",
       "      <td>Eukaryota</td>\n",
       "      <td>Chordata</td>\n",
       "      <td>Actinopteri</td>\n",
       "      <td>Gobiiformes</td>\n",
       "      <td>Gobiidae</td>\n",
       "      <td>Gymnogobius</td>\n",
       "      <td>Gymnogobius_scrobiculatus</td>\n",
       "      <td>CCCCAAGATAAAGACCAAATGTAAATAAGACTAAACTTACAAAAAG...</td>\n",
       "    </tr>\n",
       "    <tr>\n",
       "      <th>21831</th>\n",
       "      <td>OQ581844</td>\n",
       "      <td>1812872</td>\n",
       "      <td>Eukaryota</td>\n",
       "      <td>Chordata</td>\n",
       "      <td>Actinopteri</td>\n",
       "      <td>Anguilliformes</td>\n",
       "      <td>Synaphobranchidae</td>\n",
       "      <td>Synaphobranchus</td>\n",
       "      <td>Synaphobranchus_brevidorsalis</td>\n",
       "      <td>CCTCGAATAAATTCAAAACATCTATAAGCACTAAAACACAAGAAAG...</td>\n",
       "    </tr>\n",
       "    <tr>\n",
       "      <th>21832</th>\n",
       "      <td>PQ182885</td>\n",
       "      <td>240697</td>\n",
       "      <td>Eukaryota</td>\n",
       "      <td>Chordata</td>\n",
       "      <td>Actinopteri</td>\n",
       "      <td>Syngnathiformes</td>\n",
       "      <td>Syngnathidae</td>\n",
       "      <td>Syngnathus</td>\n",
       "      <td>Syngnathus_temminckii</td>\n",
       "      <td>CCCCTAATGTCTCATAGAATTAAGTAAAACACCTGAAAAATTAAGG...</td>\n",
       "    </tr>\n",
       "    <tr>\n",
       "      <th>21833</th>\n",
       "      <td>OP177726</td>\n",
       "      <td>8201</td>\n",
       "      <td>Eukaryota</td>\n",
       "      <td>Chordata</td>\n",
       "      <td>Actinopteri</td>\n",
       "      <td>Perciformes</td>\n",
       "      <td>Zoarcidae</td>\n",
       "      <td>Lycodichthys</td>\n",
       "      <td>Lycodichthys_dearborni</td>\n",
       "      <td>CCCCAAGCCCACCAACTTAATTAACTAAACCCTAATAATCGCAAAG...</td>\n",
       "    </tr>\n",
       "  </tbody>\n",
       "</table>\n",
       "<p>21544 rows × 10 columns</p>\n",
       "</div>"
      ],
      "text/plain": [
       "        ID_ncbi       ID    kingdom    phylum        class            order  \\\n",
       "0      KY213961   270547  Eukaryota  Chordata  Actinopteri              NaN   \n",
       "1      KY213962     8187  Eukaryota  Chordata  Actinopteri              NaN   \n",
       "2      KY213963    29147  Eukaryota  Chordata  Actinopteri              NaN   \n",
       "3      KY213964   329030  Eukaryota  Chordata  Actinopteri              NaN   \n",
       "4      KY228977  1001936  Eukaryota  Chordata  Actinopteri    Cypriniformes   \n",
       "...         ...      ...        ...       ...          ...              ...   \n",
       "21829  PP533446   192602  Eukaryota  Chordata  Actinopteri    Carangiformes   \n",
       "21830  PP739582  1604517  Eukaryota  Chordata  Actinopteri      Gobiiformes   \n",
       "21831  OQ581844  1812872  Eukaryota  Chordata  Actinopteri   Anguilliformes   \n",
       "21832  PQ182885   240697  Eukaryota  Chordata  Actinopteri  Syngnathiformes   \n",
       "21833  OP177726     8201  Eukaryota  Chordata  Actinopteri      Perciformes   \n",
       "\n",
       "                  family            genus                        species  \\\n",
       "0          Centropomidae            Lates                Lates_japonicus   \n",
       "1          Centropomidae            Lates               Lates_calcarifer   \n",
       "2          Centropomidae            Lates                Lates_niloticus   \n",
       "3          Centropomidae      Psammoperca         Psammoperca_waigiensis   \n",
       "4             Gobionidae  Microphysogobio      Microphysogobio_amurensis   \n",
       "...                  ...              ...                            ...   \n",
       "21829         Carangidae        Trachurus              Trachurus_murphyi   \n",
       "21830           Gobiidae      Gymnogobius      Gymnogobius_scrobiculatus   \n",
       "21831  Synaphobranchidae  Synaphobranchus  Synaphobranchus_brevidorsalis   \n",
       "21832       Syngnathidae       Syngnathus          Syngnathus_temminckii   \n",
       "21833          Zoarcidae     Lycodichthys         Lycodichthys_dearborni   \n",
       "\n",
       "                                                sequence  \n",
       "0      CCCCGAGCACCCGGCATAACATAAATAAAACCAAACGAACGCGAAG...  \n",
       "1      CCCCATAGCACCCGGCTAAAACATAAATAAAGCACAAACGAACGCT...  \n",
       "2      CCCCAAGCACCCGGCATAATATACATAAAACCAAACGAACGCGAAG...  \n",
       "3      CCCCAAGACAGTAAAACGCAAGTAACTAAACCCAAACACAACACCA...  \n",
       "4      CCCCTGTCAACACGCATTATAAATACATAATATCAAAGCACTGACA...  \n",
       "...                                                  ...  \n",
       "21829  CCCCAAGCTCCTGGACCCTAATCCTACTTAAACCGTAACAAATGCG...  \n",
       "21830  CCCCAAGATAAAGACCAAATGTAAATAAGACTAAACTTACAAAAAG...  \n",
       "21831  CCTCGAATAAATTCAAAACATCTATAAGCACTAAAACACAAGAAAG...  \n",
       "21832  CCCCTAATGTCTCATAGAATTAAGTAAAACACCTGAAAAATTAAGG...  \n",
       "21833  CCCCAAGCCCACCAACTTAATTAACTAAACCCTAATAATCGCAAAG...  \n",
       "\n",
       "[21544 rows x 10 columns]"
      ]
     },
     "execution_count": 33,
     "metadata": {},
     "output_type": "execute_result"
    }
   ],
   "source": [
    "f_data_teleo_fb=data_teleo_fb[(data_teleo_fb['class'] == 'Actinopteri') | (data_teleo_fb['class'] == 'Chondrichthyes')]\n",
    "f_data_teleo_fb"
   ]
  },
  {
   "cell_type": "code",
   "execution_count": 77,
   "metadata": {},
   "outputs": [
    {
     "name": "stdout",
     "output_type": "stream",
     "text": [
      "971\n",
      "(971, 10)\n"
     ]
    }
   ],
   "source": [
    "unique_sequences = f_data_teleo_fb[~f_data_teleo_fb['sequence'].isin(f_data_teleo_0['sequence'])]# &\n",
    "                                # ~data_teleo_fb['sequence'].isin(f_data_teleo_1['sequence']) &\n",
    "                                # ~data_teleo_fb['sequence'].isin(f_data_teleo_2['sequence']) &\n",
    "                                # ~data_teleo_fb['sequence'].isin(f_data_teleo_3['sequence']) &\n",
    "                                # ~data_teleo_fb['sequence'].isin(f_data_teleo_4['sequence'])]\n",
    "print(unique_sequences[\"sequence\"].nunique())\n",
    "\n",
    "unique_sequences = unique_sequences.drop_duplicates(subset='sequence', keep='first')\n",
    "print(unique_sequences.shape)\n",
    "unique_sequences.to_csv(r\"C:\\Users\\Auguste Verdier\\Desktop\\TeleoClassification\\data\\crabs\\fish_base\\unique_sequences.csv\", sep='\\t', index=False, header=True)"
   ]
  },
  {
   "cell_type": "markdown",
   "metadata": {},
   "source": [
    "# Total Teleo"
   ]
  },
  {
   "cell_type": "code",
   "execution_count": 53,
   "metadata": {},
   "outputs": [
    {
     "name": "stdout",
     "output_type": "stream",
     "text": [
      "nombre d'échantillon : 60041\n",
      "nombre unique sequence : 8445\n",
      "taille max de séquence : 129\n",
      "taille min de sequence : 13\n",
      "nombre de genus : 2864\n",
      "nombre de famille : 509\n",
      "nombre de order : 81\n",
      "nombre de class : 2\n",
      "nombre de phylum : 1\n",
      "nombre d\"espèce : 15989\n",
      "(50482, 10)\n",
      "(8938, 10)\n"
     ]
    }
   ],
   "source": [
    "total_teleo = pd.concat([f_data_teleo_0,    f_data_teleo_1, f_data_teleo_fb]) # f_data_teleo_4,f_data_teleo_2,\n",
    "info_dataframe(total_teleo)\n",
    "drop_duplicates = total_teleo.drop_duplicates( keep='first')\n",
    "print(drop_duplicates.shape)\n",
    "drop_duplicates_genus = total_teleo.drop_duplicates(subset=['genus','sequence'], keep='first')\n",
    "print(drop_duplicates_genus.shape)"
   ]
  },
  {
   "cell_type": "code",
   "execution_count": 54,
   "metadata": {},
   "outputs": [
    {
     "name": "stdout",
     "output_type": "stream",
     "text": [
      "nombre d'échantillon : 18687\n",
      "nombre unique sequence : 7470\n",
      "taille max de séquence : 129\n",
      "taille min de sequence : 25\n",
      "nombre de genus : 2728\n",
      "nombre de famille : 499\n",
      "nombre de order : 81\n",
      "nombre de class : 2\n",
      "nombre de phylum : 1\n",
      "nombre d\"espèce : 7425\n",
      "(18687, 7)\n",
      "7470\n",
      "(9128, 7)\n",
      "(7814, 7)\n"
     ]
    }
   ],
   "source": [
    "f_data_teleo_0\n",
    "info_dataframe(f_data_teleo_0)\n",
    "print(f_data_teleo_0.shape)\n",
    "print(f_data_teleo_0[\"sequence\"].nunique())\n",
    "drop_duplicates = f_data_teleo_0.drop_duplicates( keep='first')\n",
    "print(drop_duplicates.shape)\n",
    "drop_duplicates_genus = f_data_teleo_0.drop_duplicates(subset=['genus','sequence'], keep='first')\n",
    "print(drop_duplicates_genus.shape)"
   ]
  },
  {
   "cell_type": "markdown",
   "metadata": {},
   "source": [
    "# error 3 teleo "
   ]
  },
  {
   "cell_type": "code",
   "execution_count": 25,
   "metadata": {},
   "outputs": [
    {
     "data": {
      "text/html": [
       "<div>\n",
       "<style scoped>\n",
       "    .dataframe tbody tr th:only-of-type {\n",
       "        vertical-align: middle;\n",
       "    }\n",
       "\n",
       "    .dataframe tbody tr th {\n",
       "        vertical-align: top;\n",
       "    }\n",
       "\n",
       "    .dataframe thead th {\n",
       "        text-align: right;\n",
       "    }\n",
       "</style>\n",
       "<table border=\"1\" class=\"dataframe\">\n",
       "  <thead>\n",
       "    <tr style=\"text-align: right;\">\n",
       "      <th></th>\n",
       "      <th>ID_ncbi</th>\n",
       "      <th>ID</th>\n",
       "      <th>kingdom</th>\n",
       "      <th>phylum</th>\n",
       "      <th>class</th>\n",
       "      <th>order</th>\n",
       "      <th>family</th>\n",
       "      <th>genus</th>\n",
       "      <th>species</th>\n",
       "      <th>sequence</th>\n",
       "    </tr>\n",
       "  </thead>\n",
       "  <tbody>\n",
       "    <tr>\n",
       "      <th>116555</th>\n",
       "      <td>MG596780.1.&lt;1.&gt;474</td>\n",
       "      <td>2057240</td>\n",
       "      <td>Eukaryota</td>\n",
       "      <td>Chordata</td>\n",
       "      <td>Amphibia</td>\n",
       "      <td>Anura</td>\n",
       "      <td>Hylidae</td>\n",
       "      <td>Hyloscirtus</td>\n",
       "      <td>Hyloscirtus_callipeza</td>\n",
       "      <td>CTTCGCAGCAATAATATAGTATTTAACACACAAAAGCACAGTAGAA...</td>\n",
       "    </tr>\n",
       "    <tr>\n",
       "      <th>68887</th>\n",
       "      <td>KX844614.1.650.1603</td>\n",
       "      <td>9606</td>\n",
       "      <td>Eukaryota</td>\n",
       "      <td>Chordata</td>\n",
       "      <td>Mammalia</td>\n",
       "      <td>Primates</td>\n",
       "      <td>Hominidae</td>\n",
       "      <td>Homo</td>\n",
       "      <td>Homo_sapiens</td>\n",
       "      <td>CCTCAAGTATACTTCAAAGGACATTTAACTAAAACCCCTACGCATT...</td>\n",
       "    </tr>\n",
       "  </tbody>\n",
       "</table>\n",
       "</div>"
      ],
      "text/plain": [
       "                    ID_ncbi       ID    kingdom    phylum     class     order  \\\n",
       "116555   MG596780.1.<1.>474  2057240  Eukaryota  Chordata  Amphibia     Anura   \n",
       "68887   KX844614.1.650.1603     9606  Eukaryota  Chordata  Mammalia  Primates   \n",
       "\n",
       "           family        genus                species  \\\n",
       "116555    Hylidae  Hyloscirtus  Hyloscirtus_callipeza   \n",
       "68887   Hominidae         Homo           Homo_sapiens   \n",
       "\n",
       "                                                 sequence  \n",
       "116555  CTTCGCAGCAATAATATAGTATTTAACACACAAAAGCACAGTAGAA...  \n",
       "68887   CCTCAAGTATACTTCAAAGGACATTTAACTAAAACCCCTACGCATT...  "
      ]
     },
     "execution_count": 25,
     "metadata": {},
     "output_type": "execute_result"
    }
   ],
   "source": [
    "teleo_12S= pd.read_csv(r\"C:\\Users\\Auguste Verdier\\Desktop\\TeleoClassification\\data\\crabs\\12S\\teleo_12S_3\\output_pga_3.tsv\", sep='\\t',header=None)\n",
    "teleo_12S.rename(columns={0:'ID_ncbi', 1:'ID', 2:'kingdom', 3:'phylum', 4:'class', 5:'order', 6:'family', 7:'genus', 8:'species', 9:'sequence'}, inplace=True)\n",
    "teleo_12S.sample(2)"
   ]
  },
  {
   "cell_type": "code",
   "execution_count": 26,
   "metadata": {},
   "outputs": [
    {
     "data": {
      "text/html": [
       "<div>\n",
       "<style scoped>\n",
       "    .dataframe tbody tr th:only-of-type {\n",
       "        vertical-align: middle;\n",
       "    }\n",
       "\n",
       "    .dataframe tbody tr th {\n",
       "        vertical-align: top;\n",
       "    }\n",
       "\n",
       "    .dataframe thead th {\n",
       "        text-align: right;\n",
       "    }\n",
       "</style>\n",
       "<table border=\"1\" class=\"dataframe\">\n",
       "  <thead>\n",
       "    <tr style=\"text-align: right;\">\n",
       "      <th></th>\n",
       "      <th>ID_ncbi</th>\n",
       "      <th>ID</th>\n",
       "      <th>kingdom</th>\n",
       "      <th>phylum</th>\n",
       "      <th>class</th>\n",
       "      <th>order</th>\n",
       "      <th>family</th>\n",
       "      <th>genus</th>\n",
       "      <th>species</th>\n",
       "      <th>sequence</th>\n",
       "    </tr>\n",
       "  </thead>\n",
       "  <tbody>\n",
       "    <tr>\n",
       "      <th>2600</th>\n",
       "      <td>MF621711</td>\n",
       "      <td>147949</td>\n",
       "      <td>Eukaryota</td>\n",
       "      <td>Chordata</td>\n",
       "      <td>Actinopteri</td>\n",
       "      <td>Centrarchiformes</td>\n",
       "      <td>Centrarchidae</td>\n",
       "      <td>Micropterus</td>\n",
       "      <td>Micropterus_dolomieu</td>\n",
       "      <td>CCCCAAGCCCAAGAACTTTGATAACTAAAATCCCATAATCGCAAAG...</td>\n",
       "    </tr>\n",
       "    <tr>\n",
       "      <th>17682</th>\n",
       "      <td>OQ210167</td>\n",
       "      <td>8049</td>\n",
       "      <td>Eukaryota</td>\n",
       "      <td>Chordata</td>\n",
       "      <td>Actinopteri</td>\n",
       "      <td>Gadiformes</td>\n",
       "      <td>Gadidae</td>\n",
       "      <td>Gadus</td>\n",
       "      <td>Gadus_morhua</td>\n",
       "      <td>CTCCAAATAAACCCTAGATATTACCTAAAATGCTTTTTATAATAAG...</td>\n",
       "    </tr>\n",
       "  </tbody>\n",
       "</table>\n",
       "</div>"
      ],
      "text/plain": [
       "        ID_ncbi      ID    kingdom    phylum        class             order  \\\n",
       "2600   MF621711  147949  Eukaryota  Chordata  Actinopteri  Centrarchiformes   \n",
       "17682  OQ210167    8049  Eukaryota  Chordata  Actinopteri        Gadiformes   \n",
       "\n",
       "              family        genus               species  \\\n",
       "2600   Centrarchidae  Micropterus  Micropterus_dolomieu   \n",
       "17682        Gadidae        Gadus          Gadus_morhua   \n",
       "\n",
       "                                                sequence  \n",
       "2600   CCCCAAGCCCAAGAACTTTGATAACTAAAATCCCATAATCGCAAAG...  \n",
       "17682  CTCCAAATAAACCCTAGATATTACCTAAAATGCTTTTTATAATAAG...  "
      ]
     },
     "execution_count": 26,
     "metadata": {},
     "output_type": "execute_result"
    }
   ],
   "source": [
    "teleo_fb = pd.read_csv(r\"C:\\Users\\Auguste Verdier\\Desktop\\TeleoClassification\\data\\crabs\\fish_base\\teleo_fb_3\\output_pga_3.tsv\", sep='\\t',header=None)\n",
    "teleo_fb.rename(columns={0:'ID_ncbi', 1:'ID', 2:'kingdom', 3:'phylum', 4:'class', 5:'order', 6:'family', 7:'genus', 8:'species', 9:'sequence'}, inplace=True)\n",
    "teleo_fb.sample(2)"
   ]
  },
  {
   "cell_type": "code",
   "execution_count": 27,
   "metadata": {},
   "outputs": [
    {
     "name": "stdout",
     "output_type": "stream",
     "text": [
      "nombre d'échantillon : 117261\n",
      "nombre unique sequence : 18624\n",
      "taille max de séquence : 139\n",
      "taille min de sequence : 12\n",
      "nombre de genus : 5361\n",
      "nombre de famille : 1071\n",
      "nombre de order : 201\n",
      "nombre de class : 30\n",
      "nombre de phylum : 11\n",
      "nombre d\"espèce : 15562\n"
     ]
    }
   ],
   "source": [
    "info_dataframe(teleo_12S)"
   ]
  },
  {
   "cell_type": "code",
   "execution_count": 28,
   "metadata": {},
   "outputs": [
    {
     "name": "stdout",
     "output_type": "stream",
     "text": [
      "nombre d'échantillon : 25513\n",
      "nombre unique sequence : 9237\n",
      "taille max de séquence : 129\n",
      "taille min de sequence : 11\n",
      "nombre de genus : 2862\n",
      "nombre de famille : 515\n",
      "nombre de order : 85\n",
      "nombre de class : 5\n",
      "nombre de phylum : 1\n",
      "nombre d\"espèce : 8901\n"
     ]
    }
   ],
   "source": [
    "info_dataframe(teleo_fb)"
   ]
  },
  {
   "cell_type": "code",
   "execution_count": 29,
   "metadata": {},
   "outputs": [
    {
     "data": {
      "text/plain": [
       "array(['Actinopteri', 'Chondrichthyes', 'Hyperoartia', 'Myxini', nan,\n",
       "       'Cladistia'], dtype=object)"
      ]
     },
     "execution_count": 29,
     "metadata": {},
     "output_type": "execute_result"
    }
   ],
   "source": [
    "teleo_fb['class'].unique()"
   ]
  },
  {
   "cell_type": "code",
   "execution_count": 30,
   "metadata": {},
   "outputs": [
    {
     "name": "stdout",
     "output_type": "stream",
     "text": [
      "nombre d'échantillon : 23990\n",
      "nombre unique sequence : 8734\n",
      "taille max de séquence : 129\n",
      "taille min de sequence : 19\n",
      "nombre de genus : 2869\n",
      "nombre de famille : 528\n",
      "nombre de order : 88\n",
      "nombre de class : 5\n",
      "nombre de phylum : 2\n",
      "nombre d\"espèce : 8191\n"
     ]
    }
   ],
   "source": [
    "fish_12S_teleo = teleo_12S[teleo_12S['class'].isin(teleo_fb['class'].unique())]\n",
    "info_dataframe(fish_12S_teleo)"
   ]
  },
  {
   "cell_type": "code",
   "execution_count": 31,
   "metadata": {},
   "outputs": [],
   "source": [
    "all_teleo = pd.concat([fish_12S_teleo, teleo_fb])\n",
    "teleo_nan = all_teleo[all_teleo['class'].isna()]\n"
   ]
  },
  {
   "cell_type": "code",
   "execution_count": 32,
   "metadata": {},
   "outputs": [
    {
     "name": "stdout",
     "output_type": "stream",
     "text": [
      "nombre d'échantillon : 49503\n",
      "nombre unique sequence : 9564\n",
      "taille max de séquence : 129\n",
      "taille min de sequence : 11\n",
      "nombre de genus : 2961\n",
      "nombre de famille : 533\n",
      "nombre de order : 88\n",
      "nombre de class : 5\n",
      "nombre de phylum : 2\n",
      "nombre d\"espèce : 9192\n"
     ]
    }
   ],
   "source": [
    "info_dataframe(all_teleo)"
   ]
  },
  {
   "cell_type": "code",
   "execution_count": 32,
   "metadata": {},
   "outputs": [],
   "source": [
    "teleo_nan = all_teleo[all_teleo['class'].isna()]\n",
    "teleo_nan.to_csv(r\"C:\\Users\\Auguste Verdier\\Desktop\\TeleoClassification\\data\\crabs\\fish_base\\teleo_nan.csv\", sep=',', index=False, header=True)\n"
   ]
  },
  {
   "cell_type": "markdown",
   "metadata": {},
   "source": [
    "- Coelacanthiformes -> Sarcopterygii\n",
    "- Testudines -> no\n",
    "- Crocodylia -> no\n",
    "- Ceratodontiformes -> Sarcopterygii\n",
    "- KM078797 -> no\n",
    "- diplora -> no\n",
    "- AB626856 -> Eukaryota,Chordata,Actinopteri,Cypriniformes,Leuciscidae,Pseudaspius,Pseudaspius_sachalinensis,\n",
    "- AP011270 -> Eukaryota,Chordata,Actinopteri,Cypriniformes,Leuciscidae,Pseudaspius,Pseudaspius_sachalinensis,\n"
   ]
  },
  {
   "cell_type": "code",
   "execution_count": 33,
   "metadata": {},
   "outputs": [
    {
     "data": {
      "text/html": [
       "<div>\n",
       "<style scoped>\n",
       "    .dataframe tbody tr th:only-of-type {\n",
       "        vertical-align: middle;\n",
       "    }\n",
       "\n",
       "    .dataframe tbody tr th {\n",
       "        vertical-align: top;\n",
       "    }\n",
       "\n",
       "    .dataframe thead th {\n",
       "        text-align: right;\n",
       "    }\n",
       "</style>\n",
       "<table border=\"1\" class=\"dataframe\">\n",
       "  <thead>\n",
       "    <tr style=\"text-align: right;\">\n",
       "      <th></th>\n",
       "      <th>ID_ncbi</th>\n",
       "      <th>ID</th>\n",
       "      <th>kingdom</th>\n",
       "      <th>phylum</th>\n",
       "      <th>class</th>\n",
       "      <th>order</th>\n",
       "      <th>family</th>\n",
       "      <th>genus</th>\n",
       "      <th>species</th>\n",
       "      <th>sequence</th>\n",
       "    </tr>\n",
       "  </thead>\n",
       "  <tbody>\n",
       "    <tr>\n",
       "      <th>129</th>\n",
       "      <td>MF489945</td>\n",
       "      <td>7892</td>\n",
       "      <td>Eukaryota</td>\n",
       "      <td>Chordata</td>\n",
       "      <td>Sarcopterygii</td>\n",
       "      <td>Ceratodontiformes</td>\n",
       "      <td>Ceratodontidae</td>\n",
       "      <td>Neoceratodus</td>\n",
       "      <td>Neoceratodus_forsteri</td>\n",
       "      <td>CCTCAATAACAACCTAAACAGTAAATAACTAAACATAATTAAAATA...</td>\n",
       "    </tr>\n",
       "    <tr>\n",
       "      <th>70</th>\n",
       "      <td>AP012197.1.70.1051</td>\n",
       "      <td>7897</td>\n",
       "      <td>Eukaryota</td>\n",
       "      <td>Chordata</td>\n",
       "      <td>Sarcopterygii</td>\n",
       "      <td>Coelacanthiformes</td>\n",
       "      <td>Coelacanthidae</td>\n",
       "      <td>Latimeria</td>\n",
       "      <td>Latimeria_chalumnae</td>\n",
       "      <td>CCTCACCCAAAATCGGCCCCATCTTTTAATAAACAAAAAACCAAGC...</td>\n",
       "    </tr>\n",
       "  </tbody>\n",
       "</table>\n",
       "</div>"
      ],
      "text/plain": [
       "                ID_ncbi    ID    kingdom    phylum          class  \\\n",
       "129            MF489945  7892  Eukaryota  Chordata  Sarcopterygii   \n",
       "70   AP012197.1.70.1051  7897  Eukaryota  Chordata  Sarcopterygii   \n",
       "\n",
       "                 order          family         genus                species  \\\n",
       "129  Ceratodontiformes  Ceratodontidae  Neoceratodus  Neoceratodus_forsteri   \n",
       "70   Coelacanthiformes  Coelacanthidae     Latimeria    Latimeria_chalumnae   \n",
       "\n",
       "                                              sequence  \n",
       "129  CCTCAATAACAACCTAAACAGTAAATAACTAAACATAATTAAAATA...  \n",
       "70   CCTCACCCAAAATCGGCCCCATCTTTTAATAAACAAAAAACCAAGC...  "
      ]
     },
     "execution_count": 33,
     "metadata": {},
     "output_type": "execute_result"
    }
   ],
   "source": [
    "nan_correction = pd.read_csv(r\"C:\\Users\\Auguste Verdier\\Desktop\\TeleoClassification\\data\\crabs\\fish_base\\teleo_nan.csv\", sep=',')\n",
    "nan_correction.sample(2)"
   ]
  },
  {
   "cell_type": "code",
   "execution_count": 34,
   "metadata": {},
   "outputs": [
    {
     "data": {
      "text/plain": [
       "array(['Sarcopterygii', 'Actinopteri'], dtype=object)"
      ]
     },
     "execution_count": 34,
     "metadata": {},
     "output_type": "execute_result"
    }
   ],
   "source": [
    "nan_correction['class'].unique()"
   ]
  },
  {
   "cell_type": "code",
   "execution_count": 35,
   "metadata": {},
   "outputs": [
    {
     "name": "stdout",
     "output_type": "stream",
     "text": [
      "nombre d'échantillon : 48901\n",
      "nombre unique sequence : 9351\n",
      "taille max de séquence : 129\n",
      "taille min de sequence : 11\n",
      "nombre de genus : 2880\n",
      "nombre de famille : 516\n",
      "nombre de order : 85\n",
      "nombre de class : 6\n",
      "nombre de phylum : 1\n",
      "nombre d\"espèce : 9001\n"
     ]
    }
   ],
   "source": [
    "cleaned_teleo = pd.concat([all_teleo.dropna(subset=['class']), nan_correction])\n",
    "info_dataframe(cleaned_teleo)"
   ]
  },
  {
   "cell_type": "code",
   "execution_count": 37,
   "metadata": {},
   "outputs": [
    {
     "name": "stdout",
     "output_type": "stream",
     "text": [
      "9351\n",
      "48901\n",
      "48668\n",
      "9278\n"
     ]
    }
   ],
   "source": [
    "cleaned_teleo['class'].value_counts()\n",
    "print(cleaned_teleo['sequence'].nunique())\n",
    "print(len(cleaned_teleo))\n",
    "cleaned_teleo_correct_len = cleaned_teleo[cleaned_teleo['sequence'].str.len() >= 20]\n",
    "\n",
    "\n",
    "cleaned_teleo_no_N = cleaned_teleo_correct_len[cleaned_teleo_correct_len['sequence'].str.contains('N') == False]\n",
    "\n",
    "\n",
    "print(len(cleaned_teleo_no_N))\n",
    "\n",
    "print(cleaned_teleo_no_N['sequence'].nunique())"
   ]
  },
  {
   "cell_type": "code",
   "execution_count": 42,
   "metadata": {},
   "outputs": [],
   "source": [
    "\n",
    "cleaned_teleo_no_N.to_csv(r\"C:\\Users\\Auguste Verdier\\Desktop\\TeleoClassification\\data\\crabs\\teleo_fb_gb_clean_N_len_class.csv\", sep=',', index=False, header=True)"
   ]
  },
  {
   "cell_type": "markdown",
   "metadata": {},
   "source": [
    "# Clean nan"
   ]
  },
  {
   "cell_type": "code",
   "execution_count": 39,
   "metadata": {},
   "outputs": [],
   "source": [
    "dic_family_to_order = {\"Scatophagidae\": 'Perciformes',\n",
    "                       'Sillaginidae' : 'Perciformes',\n",
    "                       'Plesiopidae'  : 'Perciformes',\n",
    "                       'Pomacanthidae' : 'Perciformes',\n",
    "                       \"Sciaenidae\": \"Acanthuriformes\",\n",
    "                        \"Ambassidae\"  : \"Perciformes\",\n",
    "                        \"Pseudochromidae\"  : \"Perciformes\",\n",
    "                        \"Polycentridae\" : \"Perciformes\",\n",
    "                        \"Opistognathidae\"  : \"Perciformes\",\n",
    "                         \"Toxotidae\" : \"Perciformes\",\n",
    "                         'Pristiophoridae' : 'Pristiophoriformes',\n",
    "                         'Platyrhinidae' : 'Torpediniformes',\n",
    "                         'Emmelichthyidae' : 'Acanthuriformes',\n",
    "                         'Pomacentridae':  \"Perciformes\",\n",
    "                         'Embiotocidae' :'Perciformes',\n",
    "                         'Siganidae': 'Perciformes',\n",
    "                         'Squatinidae' : 'Squatiniformes',\n",
    "                         \"Centropomidae\" : \"Perciformes\" ,\n",
    "                        \"Malacanthidae\" : \"Perciformes\" ,\n",
    "                        'Polynemidae' :  'Perciformes' , \n",
    "                        'Moronidae' :  'Perciformes' ,\n",
    "                        'Menidae' :  'Perciformes' ,\n",
    "                        \"Lactariidae\" : \"Perciformes\",\n",
    "                        \"Sphyraenidae\" : \"Perciformes\",\n",
    "                        'Callanthiidae' : 'Perciformes',\n",
    "                        \"Monodactylidae\" : \"Perciformes\"}\n",
    "\n",
    "dic_order_to_class = {'Coelacanthiformes': \"Sarcopterygii\",\n",
    "                        'Ceratodontiformes' : 'Sarcopterygii'}\n",
    "\n",
    "dic_genus_to_family = {'Percalates': 'Percichthyidae',\n",
    "                       'Paedocypris': 'Cyprinidae',\n",
    "                       'Bembrops' : 'Percophidae',\n",
    "                       'Conorhynchos' : 'Pimelodidae',\n",
    "                       'Lepidogalaxias' :'Lepidogalaxiidae',\n",
    "                       }\n",
    "def fill_nan(df):\n",
    "    df = df.copy()\n",
    "    for key,item in dic_family_to_order.items():\n",
    "        idx = df[df['family']==key]\n",
    "        df.loc[idx.index, 'order'] = item\n",
    "    for key,item in dic_order_to_class.items():\n",
    "        idx = df[df['order']==key]\n",
    "        df.loc[idx.index, 'class'] = item\n",
    "    for key,item in dic_genus_to_family.items():\n",
    "        idx = df[df['genus']==key]\n",
    "        df.loc[idx.index, 'family'] = item\n",
    "\n",
    "    \n",
    "    df =df.dropna()\n",
    "    \n",
    "    \n",
    "\n",
    "    return df"
   ]
  },
  {
   "cell_type": "code",
   "execution_count": 40,
   "metadata": {},
   "outputs": [
    {
     "name": "stdout",
     "output_type": "stream",
     "text": [
      "nombre d'échantillon : 48524\n",
      "nombre unique sequence : 9267\n",
      "taille max de séquence : 129\n",
      "taille min de sequence : 20\n",
      "nombre de genus : 2871\n",
      "nombre de famille : 516\n",
      "nombre de order : 87\n",
      "nombre de class : 6\n",
      "nombre de phylum : 1\n",
      "nombre d\"espèce : 8914\n"
     ]
    }
   ],
   "source": [
    "# teleo = pd.read_csv(r\"C:\\Users\\Auguste Verdier\\Desktop\\TeleoClassification\\data\\crabs\\teleo_fb_gb_clean_N_len_class.csv\", sep=',')\n",
    "teleo = fill_nan(cleaned_teleo_no_N)\n",
    "info_dataframe(teleo)\n",
    "teleo.to_csv(r\"C:\\Users\\Auguste Verdier\\Desktop\\TeleoClassification\\data\\crabs\\teleo_final.csv\", sep=',', index=False, header=True)"
   ]
  },
  {
   "cell_type": "code",
   "execution_count": 45,
   "metadata": {},
   "outputs": [
    {
     "data": {
      "text/html": [
       "<div>\n",
       "<style scoped>\n",
       "    .dataframe tbody tr th:only-of-type {\n",
       "        vertical-align: middle;\n",
       "    }\n",
       "\n",
       "    .dataframe tbody tr th {\n",
       "        vertical-align: top;\n",
       "    }\n",
       "\n",
       "    .dataframe thead th {\n",
       "        text-align: right;\n",
       "    }\n",
       "</style>\n",
       "<table border=\"1\" class=\"dataframe\">\n",
       "  <thead>\n",
       "    <tr style=\"text-align: right;\">\n",
       "      <th></th>\n",
       "      <th>ID_ncbi</th>\n",
       "      <th>ID</th>\n",
       "      <th>kingdom</th>\n",
       "      <th>phylum</th>\n",
       "      <th>class</th>\n",
       "      <th>order</th>\n",
       "      <th>family</th>\n",
       "      <th>genus</th>\n",
       "      <th>species</th>\n",
       "      <th>sequence</th>\n",
       "    </tr>\n",
       "  </thead>\n",
       "  <tbody>\n",
       "  </tbody>\n",
       "</table>\n",
       "</div>"
      ],
      "text/plain": [
       "Empty DataFrame\n",
       "Columns: [ID_ncbi, ID, kingdom, phylum, class, order, family, genus, species, sequence]\n",
       "Index: []"
      ]
     },
     "execution_count": 45,
     "metadata": {},
     "output_type": "execute_result"
    }
   ],
   "source": [
    "teleo[teleo['species'].isna()]"
   ]
  },
  {
   "cell_type": "code",
   "execution_count": 27,
   "metadata": {},
   "outputs": [],
   "source": [
    "teleo.to_csv(r\"C:\\Users\\Auguste Verdier\\Desktop\\TeleoClassification\\data\\crabs\\teleo_fb_gb_order_clean.csv\")"
   ]
  },
  {
   "cell_type": "code",
   "execution_count": 47,
   "metadata": {},
   "outputs": [
    {
     "data": {
      "text/plain": [
       "class\n",
       "Actinopteri       42825\n",
       "Chondrichthyes     5189\n",
       "Cladistia           222\n",
       "Sarcopterygii       167\n",
       "Hyperoartia         105\n",
       "Myxini               16\n",
       "Name: count, dtype: int64"
      ]
     },
     "execution_count": 47,
     "metadata": {},
     "output_type": "execute_result"
    }
   ],
   "source": [
    "teleo['class'].value_counts()"
   ]
  },
  {
   "cell_type": "code",
   "execution_count": 41,
   "metadata": {},
   "outputs": [
    {
     "name": "stdout",
     "output_type": "stream",
     "text": [
      "nombre d'échantillon : 47759\n",
      "nombre unique sequence : 9203\n",
      "taille max de séquence : 129\n",
      "taille min de sequence : 20\n",
      "nombre de genus : 2854\n",
      "nombre de famille : 508\n",
      "nombre de order : 82\n",
      "nombre de class : 2\n",
      "nombre de phylum : 1\n",
      "nombre d\"espèce : 8861\n"
     ]
    }
   ],
   "source": [
    "teleo_class_A_C = teleo[~(teleo['class'] == 'Actinopteri') & ~(teleo['class'] == 'Chondrichthyes')]\n",
    "teleo_class_A_C = teleo[(teleo['class'] == 'Actinopteri') | (teleo['class'] == 'Chondrichthyes')]\n",
    "info_dataframe(teleo_class_A_C)"
   ]
  },
  {
   "cell_type": "code",
   "execution_count": 82,
   "metadata": {},
   "outputs": [],
   "source": [
    "teleo_class_A_C.to_csv(r\"C:\\Users\\Auguste Verdier\\Desktop\\TeleoClassification\\data\\teleo_class_A_C.csv\", sep=',', index=False, header=True)\n"
   ]
  },
  {
   "cell_type": "code",
   "execution_count": 50,
   "metadata": {},
   "outputs": [
    {
     "name": "stdout",
     "output_type": "stream",
     "text": [
      "order\n",
      "Cypriniformes          7713\n",
      "Perciformes            6004\n",
      "Gobiiformes            3064\n",
      "Siluriformes           2706\n",
      "Carcharhiniformes      2335\n",
      "                       ... \n",
      "Amiiformes                6\n",
      "Hiodontiformes            6\n",
      "Stylephoriformes          4\n",
      "Echinorhiniformes         2\n",
      "Lepidogalaxiiformes       2\n",
      "Name: count, Length: 82, dtype: int64\n",
      "order\n",
      "Cypriniformes          7523\n",
      "Perciformes            6766\n",
      "Gobiiformes            2993\n",
      "Siluriformes           2667\n",
      "Carcharhiniformes      2306\n",
      "                       ... \n",
      "Amiiformes                6\n",
      "Hiodontiformes            6\n",
      "Stylephoriformes          4\n",
      "Echinorhiniformes         2\n",
      "Lepidogalaxiiformes       2\n",
      "Name: count, Length: 82, dtype: int64\n"
     ]
    }
   ],
   "source": [
    "data= pd.read_csv(r\"C:\\Users\\Auguste Verdier\\Desktop\\TeleoClassification\\data\\teleo_class_A_C.csv\")\n",
    "data_2 = pd.read_csv(r\"C:\\Users\\Auguste Verdier\\Desktop\\TeleoClassification\\data\\teleo_class_A_C_bis.tsv\", sep='\\t')\n",
    "\n",
    "# info_dataframe(data)\n",
    "\n",
    "# info_dataframe(data_2)\n",
    "print(data['order'].value_counts())\n",
    "print(data_2['order'].value_counts())\n",
    "# data_no_in_data2 = data[~data['sequence'].isin(data_2['sequence'])]\n"
   ]
  },
  {
   "cell_type": "markdown",
   "metadata": {},
   "source": [
    "# Split data fold\n"
   ]
  },
  {
   "cell_type": "code",
   "execution_count": 83,
   "metadata": {},
   "outputs": [
    {
     "name": "stdout",
     "output_type": "stream",
     "text": [
      "class\n",
      "Actinopteri       42825\n",
      "Chondrichthyes     5189\n",
      "Name: count, dtype: int64\n"
     ]
    }
   ],
   "source": [
    "\n"
   ]
  },
  {
   "cell_type": "code",
   "execution_count": 2,
   "metadata": {},
   "outputs": [],
   "source": [
    "import pandas as pd\n",
    "import numpy as np\n",
    "from sklearn.model_selection import train_test_split, KFold\n",
    "import math\n",
    "import json\n",
    "\n",
    "\n",
    "# data = pd.read_csv(r\"C:\\Users\\Auguste Verdier\\Desktop\\TeleoClassification\\data\\teleo_class_A_C.csv\")\n",
    "\n",
    "\n",
    "def create_k_folds(df, n_splits=6):\n",
    "    df = df.copy()\n",
    "    for k in range(n_splits):\n",
    "        # fill the fold column with -1\n",
    "        df[f'fold_{k}'] = \"none\"\n",
    "    \n",
    "\n",
    "    families = df['family'].unique()\n",
    "\n",
    "    for family in families:\n",
    "\n",
    "        family_data = df[df['family'] == family]\n",
    "        genus_labels = family_data['genus'].unique()\n",
    "        genus_number = family_data['genus'].nunique()\n",
    "\n",
    "        if genus_number ==1:\n",
    "            \n",
    "            # exclude family with only one genus\n",
    "            continue\n",
    "\n",
    "        elif genus_number < n_splits :\n",
    "            skf = KFold(n_splits=genus_number)\n",
    "            \n",
    "        else :\n",
    "            skf = KFold(n_splits=n_splits)\n",
    "        \n",
    "\n",
    "\n",
    "        random_fold_assigment = np.arange(min(genus_number, n_splits))\n",
    "        np.random.shuffle(random_fold_assigment)\n",
    "       \n",
    "        for fold, (train_index, val_index) in enumerate(skf.split(genus_labels)):\n",
    "\n",
    "           \n",
    "\n",
    "            val_genus = genus_labels[val_index]\n",
    "            train_genus = genus_labels[train_index]\n",
    "           \n",
    "            val_data = df[df['genus'].isin(val_genus)]\n",
    "\n",
    "            if len(val_data)>1:\n",
    "                # if there are more than 1 sample in the validation set, 50/50 split it into validation and test\n",
    "                val_index , test_index = train_test_split(val_data.index, test_size=0.5, random_state=42) #  stratify=df.iloc[val_index]['family'],\n",
    "            else:\n",
    "                # if there is only one sample in the validation set, use it as test\n",
    "                val_index = []\n",
    "                test_index = val_data.index\n",
    "            # print(val_index)\n",
    "            \n",
    "            df.loc[val_index, f'fold_{random_fold_assigment[fold]}'] = 'val'\n",
    "            # print('fold : ',fold)\n",
    "            # print('val',pd.concat([df.loc[val_index],df.loc[test_index]])['genus'].nunique())\n",
    "\n",
    "            df.loc[test_index, f'fold_{random_fold_assigment[fold]}'] = 'test'\n",
    "     \n",
    "\n",
    "            df.loc[df['genus'].isin(train_genus), f'fold_{random_fold_assigment[fold]}'] = 'train'\n",
    "\n",
    "        #     print('train',df.loc[family_data.index[train_index]]['genus'].nunique())\n",
    "        \n",
    "\n",
    "        if fold < n_splits-1:\n",
    "            \n",
    "            a=np.arange(fold+1)\n",
    "            np.random.shuffle(a)\n",
    "            dulicate = np.tile(a, math.ceil((n_splits-fold-1)/(fold+1)))[:n_splits-fold-1]\n",
    "            for i,f in enumerate(range(fold + 1, n_splits)):\n",
    "\n",
    "                df.loc[family_data.index, f'fold_{f}'] = df.loc[family_data.index, f'fold_{dulicate[i]}'].copy()\n",
    "        \n",
    "    \n",
    "    return df\n",
    "\n"
   ]
  },
  {
   "cell_type": "code",
   "execution_count": 85,
   "metadata": {},
   "outputs": [],
   "source": [
    "df_with_folds = create_k_folds(data)"
   ]
  },
  {
   "cell_type": "code",
   "execution_count": 86,
   "metadata": {},
   "outputs": [
    {
     "data": {
      "text/plain": [
       "48014"
      ]
     },
     "execution_count": 86,
     "metadata": {},
     "output_type": "execute_result"
    }
   ],
   "source": [
    "df_with_folds.sample(2)\n",
    "len(df_with_folds)"
   ]
  },
  {
   "cell_type": "code",
   "execution_count": 87,
   "metadata": {},
   "outputs": [
    {
     "data": {
      "text/plain": [
       "fold_2\n",
       "train    37360\n",
       "test      4287\n",
       "val       4214\n",
       "none      2153\n",
       "Name: count, dtype: int64"
      ]
     },
     "execution_count": 87,
     "metadata": {},
     "output_type": "execute_result"
    }
   ],
   "source": [
    "df_with_folds['fold_2'].value_counts()"
   ]
  },
  {
   "cell_type": "code",
   "execution_count": 102,
   "metadata": {},
   "outputs": [
    {
     "name": "stdout",
     "output_type": "stream",
     "text": [
      "0.7947269303201506\n",
      "0.23859052353851856\n",
      "0.7614094764614814\n"
     ]
    }
   ],
   "source": [
    "kold =0\n",
    "val =df_with_folds[df_with_folds[f'fold_{kold}'] == 'val']\n",
    "train =df_with_folds[df_with_folds[f'fold_{kold}'] == 'train']\n",
    "test =df_with_folds[df_with_folds[f'fold_{kold}'] == 'test']\n",
    "val_test = pd.concat([val,test])\n",
    "\n",
    "print(train['genus'].nunique() / (train['genus'].nunique() + val_test['genus'].nunique() ))\n",
    "assert set(val_test['genus']).isdisjoint(set(train['genus']))\n",
    "# print(df_with_folds.shape[0], val.shape[0] + train.shape[0] + test.shape[0])\n",
    "print((val.shape[0] + test.shape[0]) /(val.shape[0] + train.shape[0] + test.shape[0]))\n",
    "print(train.shape[0] /(val.shape[0] + train.shape[0] + test.shape[0]))"
   ]
  },
  {
   "cell_type": "code",
   "execution_count": 103,
   "metadata": {},
   "outputs": [],
   "source": [
    "df_with_folds.to_csv(r\"C:\\Users\\Auguste Verdier\\Desktop\\TeleoClassification\\data\\crabs\\teleo_final_with_folds_clean.csv\", sep=',', index=False, header=True)"
   ]
  },
  {
   "cell_type": "markdown",
   "metadata": {},
   "source": [
    "# save fold"
   ]
  },
  {
   "cell_type": "code",
   "execution_count": 106,
   "metadata": {},
   "outputs": [],
   "source": [
    "import pandas as pd\n",
    "import os\n",
    "import json\n",
    "\n",
    "df_with_folds = pd.read_csv(r\"C:\\Users\\Auguste Verdier\\Desktop\\TeleoClassification\\data\\crabs\\teleo_final_with_folds_clean.csv\")\n",
    "df = df_with_folds.drop_duplicates(subset=['sequence','genus'], keep='first')\n",
    "df.to_csv(r\"C:\\Users\\Auguste Verdier\\Desktop\\TeleoClassification\\data\\crabs\\teleo_final_with_folds_clean_dedup.csv\", sep=',', index=False, header=True)\n",
    "os.makedirs(f\"C:/Users/Auguste Verdier/Desktop/TeleoClassification/data/teleo_clean\", exist_ok=True)\n",
    "for fold in range(6):\n",
    "    os.makedirs(f\"C:/Users/Auguste Verdier/Desktop/TeleoClassification/data/teleo_clean\", exist_ok=True)\n",
    "    os.makedirs(f\"C:/Users/Auguste Verdier/Desktop/TeleoClassification/data/teleo_clean/fold_{fold+1}\", exist_ok=True)\n",
    "\n",
    "    train = df_with_folds[df_with_folds[f'fold_{fold}'] == 'train']\n",
    "    val = df_with_folds[df_with_folds[f'fold_{fold}'] == 'val']\n",
    "    # [['sequence','order','family']].drop_duplicates(subset=['family'], keep='first')\n",
    "    test = df_with_folds[df_with_folds[f'fold_{fold}'] == 'test']\n",
    "    # [['sequence','order','family']].drop_duplicates(subset=['family'], keep='first')\n",
    "    json_data = pd.concat([val,test])['genus'].unique().tolist()\n",
    "    json.dump(json_data, open(rf\"C:\\Users\\Auguste Verdier\\Desktop\\TeleoClassification\\data\\teleo_clean\\fold_{fold+1}\\test_genus.json\", 'w'))\n",
    "    \n",
    "    train = train.drop_duplicates(subset=['sequence','family'], keep='first')\n",
    "    val = val.drop_duplicates(subset=['sequence','family'], keep='first')\n",
    "    test = test.drop_duplicates(subset=['sequence','family'], keep='first')\n",
    "\n",
    "    val[['sequence', 'order' , 'family', 'genus','species']].to_csv(rf\"C:\\Users\\Auguste Verdier\\Desktop\\TeleoClassification\\data\\teleo_clean\\fold_{fold+1}\\val.csv\", sep=',', index=False, header=True)\n",
    "    train[['sequence', 'order' , 'family', 'genus', 'species']].to_csv(rf\"C:\\Users\\Auguste Verdier\\Desktop\\TeleoClassification\\data\\teleo_clean\\fold_{fold+1}\\train.csv\", sep=',', index=False, header=True)\n",
    "    test[['sequence', 'order' , 'family', 'genus', 'species']].to_csv(rf\"C:/Users/Auguste Verdier\\Desktop/TeleoClassification\\data\\teleo_clean\\fold_{fold+1}\\test.csv\", sep=',', index=False, header=True)\n",
    "    \n",
    "    json_data = pd.concat([val,test])\n",
    "    # val.to_csv(rf\"C:\\Users\\Auguste Verdier\\Desktop\\TeleoClassification\\data\\fold_{fold+1}\\val.csv\", sep=',', index=False, header=True)\n",
    "    # train.to_csv(rf\"C:\\Users\\Auguste Verdier\\Desktop\\TeleoClassification\\data\\fold_{fold+1}\\train.csv\", sep=',', index=False, header=True)\n",
    "    # test.to_csv(rf\"C:/Users\\Auguste Verdier\\Desktop\\TeleoClassification\\data\\fold_{fold+1}\\test.csv\", sep=',', index=False, header=True)"
   ]
  }
 ],
 "metadata": {
  "kernelspec": {
   "display_name": "torch",
   "language": "python",
   "name": "python3"
  },
  "language_info": {
   "codemirror_mode": {
    "name": "ipython",
    "version": 3
   },
   "file_extension": ".py",
   "mimetype": "text/x-python",
   "name": "python",
   "nbconvert_exporter": "python",
   "pygments_lexer": "ipython3",
   "version": "3.11.8"
  }
 },
 "nbformat": 4,
 "nbformat_minor": 2
}
