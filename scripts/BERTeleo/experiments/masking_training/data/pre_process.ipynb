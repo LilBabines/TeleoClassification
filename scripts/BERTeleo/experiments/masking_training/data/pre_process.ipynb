{
 "cells": [
  {
   "cell_type": "code",
   "execution_count": 1,
   "metadata": {},
   "outputs": [],
   "source": [
    "import pandas as pd\n",
    "import json\n",
    "import os\n",
    "import random\n",
    "from tqdm import tqdm\n"
   ]
  },
  {
   "cell_type": "code",
   "execution_count": 2,
   "metadata": {},
   "outputs": [],
   "source": [
    "#function upper string\n",
    "lambda_upper = lambda x: x.upper()\n",
    "def mutate_dna_sequence(sequence, mutation_probability):\n",
    "    mutated_sequence = \"\"\n",
    "    \n",
    "    for base in sequence:\n",
    "        if random.random() < mutation_probability:\n",
    "            mutated_base = random.choice(['A', 'T', 'C', 'G'])\n",
    "            while mutated_base == base:\n",
    "                mutated_base = random.choice(['A', 'T', 'C', 'G'])\n",
    "            mutated_sequence += mutated_base\n",
    "        else:\n",
    "            mutated_sequence += base\n",
    "    \n",
    "    return mutated_sequence\n",
    "\n",
    "def split_and_mutate_sequence(sequence):\n",
    "    # Calculate the lengths of each part\n",
    "    length_1 = int(len(sequence) * 0.06)\n",
    "    length_2 = int(len(sequence) * 0.62)\n",
    "    length_3 = int(len(sequence) * 0.29)\n",
    "    \n",
    "    # Split the sequence into three parts\n",
    "    part_1 = sequence[:length_1]\n",
    "    part_2 = sequence[length_1:length_1+length_2]\n",
    "    part_3 = sequence[length_1+length_2:]\n",
    "    \n",
    "    # Apply mutate_dna_sequence to each part with respective probabilities\n",
    "    mutated_part_1 = mutate_dna_sequence(part_1, 0.024)\n",
    "    mutated_part_2 = mutate_dna_sequence(part_2, 0.24)\n",
    "    mutated_part_3 = mutate_dna_sequence(part_3, 0.008)\n",
    "    \n",
    "    # Concatenate the mutated parts into a new sequence\n",
    "    mutated_sequence = mutated_part_1 + mutated_part_2 + mutated_part_3\n",
    "    \n",
    "    # Return the mutated sequence\n",
    "    return mutated_sequence\n"
   ]
  },
  {
   "cell_type": "code",
   "execution_count": 3,
   "metadata": {},
   "outputs": [
    {
     "name": "stderr",
     "output_type": "stream",
     "text": [
      "100%|██████████| 20/20 [00:03<00:00,  5.37it/s]\n"
     ]
    },
    {
     "name": "stdout",
     "output_type": "stream",
     "text": [
      "fold 1 done\n"
     ]
    },
    {
     "name": "stderr",
     "output_type": "stream",
     "text": [
      "100%|██████████| 20/20 [00:03<00:00,  5.36it/s]\n"
     ]
    },
    {
     "name": "stdout",
     "output_type": "stream",
     "text": [
      "fold 2 done\n"
     ]
    },
    {
     "name": "stderr",
     "output_type": "stream",
     "text": [
      "100%|██████████| 20/20 [00:03<00:00,  5.36it/s]\n"
     ]
    },
    {
     "name": "stdout",
     "output_type": "stream",
     "text": [
      "fold 3 done\n"
     ]
    },
    {
     "name": "stderr",
     "output_type": "stream",
     "text": [
      "100%|██████████| 20/20 [00:03<00:00,  5.38it/s]\n"
     ]
    },
    {
     "name": "stdout",
     "output_type": "stream",
     "text": [
      "fold 4 done\n"
     ]
    },
    {
     "name": "stderr",
     "output_type": "stream",
     "text": [
      "100%|██████████| 20/20 [00:03<00:00,  5.37it/s]\n"
     ]
    },
    {
     "name": "stdout",
     "output_type": "stream",
     "text": [
      "fold 5 done\n"
     ]
    },
    {
     "name": "stderr",
     "output_type": "stream",
     "text": [
      "100%|██████████| 20/20 [00:03<00:00,  5.36it/s]\n"
     ]
    },
    {
     "name": "stdout",
     "output_type": "stream",
     "text": [
      "fold 6 done\n"
     ]
    }
   ],
   "source": [
    "# data no need exclude genus \n",
    "\n",
    "data_curaca = pd.read_csv(r\"C:\\Users\\Auguste Verdier\\Desktop\\TeleoClassification\\scripts\\BERTeleo\\experiments\\masking_training\\data\\teleo\\all_source\\gbif_ma_cu_curaca_2020_teleo.csv\")[['DNA_sequence']].rename(columns={'DNA_sequence':'sequence'})\n",
    "data_evhoe = pd.read_csv(r\"C:\\Users\\Auguste Verdier\\Desktop\\TeleoClassification\\scripts\\BERTeleo\\experiments\\masking_training\\data\\teleo\\all_source\\gbif_ma_fr_evhoe_2020_teleo.csv\")[['DNA_sequence']].rename(columns={'DNA_sequence':'sequence'})\n",
    "data_fjord = pd.read_csv(r\"C:\\Users\\Auguste Verdier\\Desktop\\TeleoClassification\\scripts\\BERTeleo\\experiments\\masking_training\\data\\teleo\\all_source\\obitools_teleo_arctic_clean_fjord.csv\")[['sequence']]\n",
    "data_fjord['sequence'] = data_fjord['sequence'].apply(lambda_upper)\n",
    "data_fb_fail = pd.read_csv(r\"C:\\Users\\Auguste Verdier\\Desktop\\TeleoClassification\\scripts\\BERTeleo\\experiments\\masking_training\\data\\teleo\\all_source\\teleo_missing_taxa_pga_3_fb.tsv\", sep=\"\\t\",header = None)\n",
    "data_gb_fail = pd.read_csv(r\"C:\\Users\\Auguste Verdier\\Desktop\\TeleoClassification\\scripts\\BERTeleo\\experiments\\masking_training\\data\\teleo\\all_source\\teleo_missing_taxa_pga_3_gb.tsv\", sep=\"\\t\",header = None)\n",
    "data_fb_fail.rename(columns={0:'ID',1:'sequence'}, inplace=True)\n",
    "data_gb_fail.rename(columns={0:'ID',1:'sequence'}, inplace=True)\n",
    "\n",
    "# exclude genus from eache  fold\n",
    "\n",
    "data_fb = pd.read_csv(r\"C:\\Users\\Auguste Verdier\\Desktop\\TeleoClassification\\scripts\\BERTeleo\\experiments\\masking_training\\data\\teleo\\all_source\\output_pga_3_fb.tsv\", sep=\"\\t\",header = None)\n",
    "data_gb = pd.read_csv(r\"C:\\Users\\Auguste Verdier\\Desktop\\TeleoClassification\\scripts\\BERTeleo\\experiments\\masking_training\\data\\teleo\\all_source\\output_pga_3_gb.tsv\", sep=\"\\t\",header = None)\n",
    "\n",
    "data_fb.rename(columns={0:'ID_ncbi', 1:'ID', 2:'kingdom', 3:'phylum', 4:'class', 5:'order', 6:'family', 7:'genus', 8:'species', 9:'sequence'}, inplace=True)\n",
    "data_gb.rename(columns={0:'ID_ncbi', 1:'ID', 2:'kingdom', 3:'phylum', 4:'class', 5:'order', 6:'family', 7:'genus', 8:'species', 9:'sequence'}, inplace=True)\n",
    "\n",
    "\n",
    "\n",
    "for k in range(1,7):\n",
    "    fold_genus = json.load(open(fr\"C:\\Users\\Auguste Verdier\\Desktop\\TeleoClassification\\data\\6_fold_teleo_aug\\fold_{k}\\test_genus.json\"))\n",
    "    data_fb['sequence'] = data_fb['sequence'].apply(lambda_upper)\n",
    "    data_gb['sequence'] = data_gb['sequence'].apply(lambda_upper)\n",
    "    \n",
    "    no_genus_fb = data_fb[~data_fb['genus'].isin(fold_genus)]\n",
    "    no_genus_gb = data_gb[~data_gb['genus'].isin(fold_genus)]\n",
    "\n",
    "    val_fb = data_fb[data_fb['genus'].isin(fold_genus)]\n",
    "    val_gb = data_gb[data_gb['genus'].isin(fold_genus)]\n",
    "    val_set = pd.concat([val_fb[['sequence']], val_gb[['sequence']]], ignore_index=True)\n",
    "\n",
    "    val_set.drop_duplicates(subset=['sequence'], inplace=True)\n",
    "    val_set.reset_index(drop=True, inplace=True)\n",
    "\n",
    "    concat_all = pd.concat([no_genus_fb[['sequence']], no_genus_gb[[ 'sequence']], data_fb_fail[[ 'sequence']], data_curaca, data_evhoe, data_fjord], ignore_index=True)\n",
    "    concat_all.drop_duplicates(subset=['sequence'], inplace=True)\n",
    "    concat_all.reset_index(drop=True, inplace=True)\n",
    "    os.makedirs(r\"C:\\Users\\Auguste Verdier\\Desktop\\TeleoClassification\\scripts\\BERTeleo\\experiments\\masking_training\\data\\teleo\\fold_\"+str(k), exist_ok=True)\n",
    "    concat_all.to_csv(r\"C:\\Users\\Auguste Verdier\\Desktop\\TeleoClassification\\scripts\\BERTeleo\\experiments\\masking_training\\data\\teleo\\fold_\"+str(k)+r\"\\all_sequence.csv\", index=False)\n",
    "    df = concat_all.copy()\n",
    "    for i in tqdm(range(20)):\n",
    "\n",
    "        temp_df = df.copy()\n",
    "        temp_df['sequence'] = df['sequence'].apply(split_and_mutate_sequence)\n",
    "        concat_all = pd.concat([concat_all, temp_df], ignore_index=True)\n",
    "        \n",
    "    \n",
    "\n",
    "    \n",
    "    concat_all.to_csv(r\"C:\\Users\\Auguste Verdier\\Desktop\\TeleoClassification\\scripts\\BERTeleo\\experiments\\masking_training\\data\\teleo\\fold_\"+str(k)+r\"\\train.csv\", index=False)\n",
    "    val_set.to_csv(r\"C:\\Users\\Auguste Verdier\\Desktop\\TeleoClassification\\scripts\\BERTeleo\\experiments\\masking_training\\data\\teleo\\fold_\"+str(k)+r\"\\val.csv\", index=False)\n",
    "\n",
    "    print(\"fold \"+str(k)+\" done\")\n",
    "\n",
    "\n",
    "\n",
    "\n",
    "\n"
   ]
  }
 ],
 "metadata": {
  "kernelspec": {
   "display_name": "teleo_classif",
   "language": "python",
   "name": "python3"
  },
  "language_info": {
   "codemirror_mode": {
    "name": "ipython",
    "version": 3
   },
   "file_extension": ".py",
   "mimetype": "text/x-python",
   "name": "python",
   "nbconvert_exporter": "python",
   "pygments_lexer": "ipython3",
   "version": "3.12.4"
  }
 },
 "nbformat": 4,
 "nbformat_minor": 2
}
