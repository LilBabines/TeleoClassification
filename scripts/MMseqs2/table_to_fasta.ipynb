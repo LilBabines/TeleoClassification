{
 "cells": [
  {
   "cell_type": "code",
   "execution_count": 8,
   "metadata": {},
   "outputs": [],
   "source": [
    "from ete3 import NCBITaxa\n",
    "ncbi = NCBITaxa()"
   ]
  },
  {
   "cell_type": "code",
   "execution_count": 9,
   "metadata": {},
   "outputs": [
    {
     "name": "stdout",
     "output_type": "stream",
     "text": [
      "c:\\Users\\Auguste Verdier\\Desktop\\TeleoClassification\\scripts\\MMseqs2\n"
     ]
    }
   ],
   "source": [
    "import os \n",
    "print(os.getcwd())"
   ]
  },
  {
   "cell_type": "code",
   "execution_count": 10,
   "metadata": {},
   "outputs": [],
   "source": [
    "import pandas as pd\n",
    "import numpy as np"
   ]
  },
  {
   "cell_type": "code",
   "execution_count": 11,
   "metadata": {},
   "outputs": [],
   "source": [
    "folds = [f'fold_{i}' for i in range(1, 7)]"
   ]
  },
  {
   "cell_type": "code",
   "execution_count": 5,
   "metadata": {},
   "outputs": [],
   "source": [
    "\n",
    "\n",
    "def get_ncbi_id_from_taxon_name(taxon_name):\n",
    "\n",
    "    return ncbi.get_name_translator([taxon_name])[taxon_name][0]\n",
    "\n",
    "def get_lineage(taxon_id):\n",
    "    return ncbi.get_lineage(taxon_id)\n",
    "\n",
    "def get_rank(taxon_id):\n",
    "    return ncbi.get_rank([taxon_id])\n",
    "\n",
    "def get_taxon_name(taxon_id):\n",
    "    return ncbi.get_taxid_translator([taxon_id])[taxon_id]\n",
    "\n",
    "def get_taxon_name_from_lineage(lineage):\n",
    "    return [get_taxon_name(taxon_id) for taxon_id in lineage]\n",
    "\n",
    "def get_rank_from_lineage(lineage):\n",
    "    return {taxon_id: rank for taxon_id, rank in get_rank(lineage).items()}\n",
    "\n",
    "\n"
   ]
  },
  {
   "cell_type": "code",
   "execution_count": 12,
   "metadata": {},
   "outputs": [],
   "source": [
    "def csv_to_fasta(csv, fasta):\n",
    "    with open(fasta, 'w') as f:\n",
    "        for unique_family in csv['family'].unique():\n",
    "            id = 1\n",
    "            family_id = get_ncbi_id_from_taxon_name(unique_family)\n",
    "            family_subset = csv[csv['family'] == unique_family]\n",
    "            for index, row in family_subset.iterrows():\n",
    "                csv.loc[index, 'unique_header'] = f'{unique_family}.{id}'\n",
    "                unique_header = f'{unique_family}.{id}'\n",
    "                f.write(f'>{unique_header}\\n{row[\"sequence\"]}\\n')\n",
    "                id += 1\n",
    "    return csv\n",
    "\n",
    "def test_csv_to_fasta(csv,fasta):\n",
    "    with open(fasta, 'w') as f:\n",
    "        \n",
    "        for index, row in csv.iterrows():\n",
    "            \n",
    "            f.write(f'>{index}\\n{row[\"sequence\"]}\\n')\n",
    "    return csv\n",
    "\n",
    "for fold in folds:\n",
    "    train = pd.read_csv(f'teleo_clean/{fold}/train.csv')\n",
    "    train['tax_id'] = train['family'].apply(get_ncbi_id_from_taxon_name)\n",
    "    csv = csv_to_fasta(train, f'teleo_clean/{fold}/train.fasta')\n",
    "    csv_uniq_tax = csv[['unique_header', 'tax_id']]\n",
    "    csv_uniq_tax.to_csv(f'teleo_clean/{fold}/train_tax.tsv',sep=' ', index=False)\n",
    "    test = pd.read_csv(f'teleo_clean/{fold}/test.csv')\n",
    "    test_csv_to_fasta(test, f'teleo_clean/{fold}/test.fasta')\n",
    "\n",
    "\n",
    "# csv = csv_to_fasta(train_1, f'6_fold_teleo/{fold}/train.fasta')\n",
    "# csv_uniq_tax = csv[['unique_header', 'tax_id']]\n",
    "# csv_uniq_tax.to_csv(f'6_fold_teleo/{fold}/train_tax.tsv',sep=' ', index=False)\n"
   ]
  },
  {
   "cell_type": "code",
   "execution_count": 8,
   "metadata": {},
   "outputs": [
    {
     "data": {
      "text/html": [
       "<div>\n",
       "<style scoped>\n",
       "    .dataframe tbody tr th:only-of-type {\n",
       "        vertical-align: middle;\n",
       "    }\n",
       "\n",
       "    .dataframe tbody tr th {\n",
       "        vertical-align: top;\n",
       "    }\n",
       "\n",
       "    .dataframe thead th {\n",
       "        text-align: right;\n",
       "    }\n",
       "</style>\n",
       "<table border=\"1\" class=\"dataframe\">\n",
       "  <thead>\n",
       "    <tr style=\"text-align: right;\">\n",
       "      <th></th>\n",
       "      <th>unique_header</th>\n",
       "      <th>tax_id</th>\n",
       "    </tr>\n",
       "  </thead>\n",
       "  <tbody>\n",
       "    <tr>\n",
       "      <th>3503</th>\n",
       "      <td>Labridae.86</td>\n",
       "      <td>8247</td>\n",
       "    </tr>\n",
       "    <tr>\n",
       "      <th>4882</th>\n",
       "      <td>Cichlidae.114</td>\n",
       "      <td>8113</td>\n",
       "    </tr>\n",
       "    <tr>\n",
       "      <th>1339</th>\n",
       "      <td>Loricariidae.145</td>\n",
       "      <td>31002</td>\n",
       "    </tr>\n",
       "    <tr>\n",
       "      <th>6933</th>\n",
       "      <td>Callionymidae.19</td>\n",
       "      <td>30908</td>\n",
       "    </tr>\n",
       "    <tr>\n",
       "      <th>1941</th>\n",
       "      <td>Gobionidae.37</td>\n",
       "      <td>2743714</td>\n",
       "    </tr>\n",
       "  </tbody>\n",
       "</table>\n",
       "</div>"
      ],
      "text/plain": [
       "         unique_header   tax_id\n",
       "3503       Labridae.86     8247\n",
       "4882     Cichlidae.114     8113\n",
       "1339  Loricariidae.145    31002\n",
       "6933  Callionymidae.19    30908\n",
       "1941     Gobionidae.37  2743714"
      ]
     },
     "execution_count": 8,
     "metadata": {},
     "output_type": "execute_result"
    }
   ],
   "source": [
    "csv_uniq_tax= pd.read_csv(f'teleo_clean/{fold}/train_tax.tsv',sep=' ')\n",
    "csv_uniq_tax.sample(5)"
   ]
  }
 ],
 "metadata": {
  "kernelspec": {
   "display_name": "bertax",
   "language": "python",
   "name": "python3"
  },
  "language_info": {
   "codemirror_mode": {
    "name": "ipython",
    "version": 3
   },
   "file_extension": ".py",
   "mimetype": "text/x-python",
   "name": "python",
   "nbconvert_exporter": "python",
   "pygments_lexer": "ipython3",
   "version": "3.9.19"
  }
 },
 "nbformat": 4,
 "nbformat_minor": 2
}
