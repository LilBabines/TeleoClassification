{
 "cells": [
  {
   "cell_type": "code",
   "execution_count": 12,
   "metadata": {},
   "outputs": [],
   "source": [
    "import pandas as pd\n",
    "import os \n",
    "from sklearn.metrics import f1_score as f1 \n",
    "os.chdir(os.path.dirname(os.getcwd()))\n",
    "os.getcwd()"
   ]
  },
  {
   "cell_type": "code",
   "execution_count": 16,
   "metadata": {},
   "outputs": [],
   "source": [
    "# Change the paths to the data files here\n",
    "\n",
    "data_path_teleo_clean = r\"C:\\Users\\Auguste Verdier\\Desktop\\TeleoClassification\\data\\teleo_clean\"\n",
    "\n",
    "OBI_pred_path = \"./Obitools/\"\n",
    "BERT_DNABERT_pred_path = \"./BERT_DNABERT_preds/\"\n",
    "\n",
    "Barcode = r\"C:\\Users\\Auguste Verdier\\Desktop\\TeleoClassification\\scripts\\BERTeleo\\experiments\\barcodebert\\outputs\\6_fold_single_barcodebert_teleo_clean\\checkpoints\""
   ]
  },
  {
   "cell_type": "markdown",
   "metadata": {},
   "source": [
    "## Obitools"
   ]
  },
  {
   "cell_type": "markdown",
   "metadata": {},
   "source": [
    "### Macro Accuracy"
   ]
  },
  {
   "cell_type": "code",
   "execution_count": 14,
   "metadata": {},
   "outputs": [
    {
     "name": "stderr",
     "output_type": "stream",
     "text": [
      "C:\\Users\\Auguste Verdier\\AppData\\Local\\Temp\\ipykernel_4600\\965380575.py:10: DeprecationWarning: DataFrameGroupBy.apply operated on the grouping columns. This behavior is deprecated, and in a future version of pandas the grouping columns will be excluded from the operation. Either pass `include_groups=False` to exclude the groupings or explicitly select the grouping columns after groupby to silence this warning.\n",
      "  per_class_accuracy = labels.groupby('family').apply(lambda group: (group['preds'] == group['family']).mean(), include_groups=True)\n",
      "C:\\Users\\Auguste Verdier\\AppData\\Local\\Temp\\ipykernel_4600\\965380575.py:10: DeprecationWarning: DataFrameGroupBy.apply operated on the grouping columns. This behavior is deprecated, and in a future version of pandas the grouping columns will be excluded from the operation. Either pass `include_groups=False` to exclude the groupings or explicitly select the grouping columns after groupby to silence this warning.\n",
      "  per_class_accuracy = labels.groupby('family').apply(lambda group: (group['preds'] == group['family']).mean(), include_groups=True)\n",
      "C:\\Users\\Auguste Verdier\\AppData\\Local\\Temp\\ipykernel_4600\\965380575.py:10: DeprecationWarning: DataFrameGroupBy.apply operated on the grouping columns. This behavior is deprecated, and in a future version of pandas the grouping columns will be excluded from the operation. Either pass `include_groups=False` to exclude the groupings or explicitly select the grouping columns after groupby to silence this warning.\n",
      "  per_class_accuracy = labels.groupby('family').apply(lambda group: (group['preds'] == group['family']).mean(), include_groups=True)\n",
      "C:\\Users\\Auguste Verdier\\AppData\\Local\\Temp\\ipykernel_4600\\965380575.py:10: DeprecationWarning: DataFrameGroupBy.apply operated on the grouping columns. This behavior is deprecated, and in a future version of pandas the grouping columns will be excluded from the operation. Either pass `include_groups=False` to exclude the groupings or explicitly select the grouping columns after groupby to silence this warning.\n",
      "  per_class_accuracy = labels.groupby('family').apply(lambda group: (group['preds'] == group['family']).mean(), include_groups=True)\n"
     ]
    },
    {
     "name": "stdout",
     "output_type": "stream",
     "text": [
      "Fold 1 macro avg f1: 0.44831247571658006\n",
      "Fold 2 macro avg f1: 0.4163432115988858\n",
      "Fold 3 macro avg f1: 0.41289766125400107\n",
      "Fold 4 macro avg f1: 0.4110738113169477\n",
      "Fold 5 macro avg f1: 0.42375990444758227\n",
      "Fold 6 macro avg f1: 0.4235814838132357\n",
      "Mean Macro Accuracy 0.41881846498021563\n",
      "Mean Macro F1 0.42266142469120543\n"
     ]
    },
    {
     "name": "stderr",
     "output_type": "stream",
     "text": [
      "C:\\Users\\Auguste Verdier\\AppData\\Local\\Temp\\ipykernel_4600\\965380575.py:10: DeprecationWarning: DataFrameGroupBy.apply operated on the grouping columns. This behavior is deprecated, and in a future version of pandas the grouping columns will be excluded from the operation. Either pass `include_groups=False` to exclude the groupings or explicitly select the grouping columns after groupby to silence this warning.\n",
      "  per_class_accuracy = labels.groupby('family').apply(lambda group: (group['preds'] == group['family']).mean(), include_groups=True)\n",
      "C:\\Users\\Auguste Verdier\\AppData\\Local\\Temp\\ipykernel_4600\\965380575.py:10: DeprecationWarning: DataFrameGroupBy.apply operated on the grouping columns. This behavior is deprecated, and in a future version of pandas the grouping columns will be excluded from the operation. Either pass `include_groups=False` to exclude the groupings or explicitly select the grouping columns after groupby to silence this warning.\n",
      "  per_class_accuracy = labels.groupby('family').apply(lambda group: (group['preds'] == group['family']).mean(), include_groups=True)\n"
     ]
    }
   ],
   "source": [
    "acc = []\n",
    "f1_scrores = []\n",
    "for fold in range(1,7):\n",
    "\n",
    "    preds = pd.read_csv(OBI_pred_path +f'fold_{fold}/test_ecotag_pred.csv')\n",
    "    labels = pd .read_csv(data_path_teleo_clean+ f'/fold_{fold}/test.csv')\n",
    "\n",
    "    labels['preds'] = preds['pred_family']\n",
    "\n",
    "    per_class_accuracy = labels.groupby('family').apply(lambda group: (group['preds'] == group['family']).mean(), include_groups=True)\n",
    "\n",
    "    macro_avg_accuracy = per_class_accuracy.mean()\n",
    "    acc.append(macro_avg_accuracy)\n",
    "    # print(f'Fold {fold} macro avg accuracy: {macro_avg_accuracy}')\n",
    "    # f1_scrores.append(f1(labels['family'], labels['preds'], average='macro'))\n",
    "    # print(f'Fold {fold} macro avg f1: {f1(labels[\"family\"], labels[\"preds\"], average=\"macro\")}')\n",
    "\n",
    "print('Mean Macro Accuracy',sum(acc)/len(acc))\n",
    "# print('Mean Macro F1',sum(f1_scrores)/len(f1_scrores))\n",
    "\n"
   ]
  },
  {
   "cell_type": "markdown",
   "metadata": {},
   "source": [
    "### Macro F1"
   ]
  },
  {
   "cell_type": "code",
   "execution_count": 26,
   "metadata": {},
   "outputs": [
    {
     "name": "stdout",
     "output_type": "stream",
     "text": [
      "Fold 1 f1: 0.44831247571658006\n",
      "Fold 2 f1: 0.4163432115988858\n",
      "Fold 3 f1: 0.41289766125400107\n",
      "Fold 4 f1: 0.4110738113169477\n",
      "Fold 5 f1: 0.42375990444758227\n",
      "Fold 6 f1: 0.4235814838132358\n",
      "0.41745691844858784\n"
     ]
    }
   ],
   "source": [
    "from sklearn.metrics import f1_score\n",
    "import numpy as np\n",
    "\n",
    "def nc_to_none(x):\n",
    "    if x == 'NC':\n",
    "\n",
    "        return \"\"\n",
    "    return x\n",
    "\n",
    "acc = []\n",
    "nc = []\n",
    "for fold in range(1,7):\n",
    "    preds = pd.read_csv(f'./Obitools_preds/fold_{fold}/test_ecotag_pred.csv')\n",
    "    labels = pd .read_csv(f'./teleo_clean/fold_{fold}/test.csv')\n",
    "\n",
    "    nc.append(preds['pred_family'].value_counts()['NC'] / len(preds))\n",
    "    \n",
    "    labels['preds'] = preds['pred_family'].apply(nc_to_none)\n",
    "\n",
    "    labels['family'] = labels['family']\n",
    "\n",
    "    f1 = f1_score(labels['family'], labels['preds'], average='macro')\n",
    "    acc.append(f1)\n",
    "    print(f'Fold {fold} f1: {f1}')\n",
    "\n",
    "print('Macro F1',sum(acc)/len(acc))\n",
    "# print(sum(nc)/len(nc))"
   ]
  },
  {
   "cell_type": "markdown",
   "metadata": {},
   "source": [
    "## DNABERT_2"
   ]
  },
  {
   "cell_type": "code",
   "execution_count": null,
   "metadata": {},
   "outputs": [],
   "source": []
  },
  {
   "cell_type": "markdown",
   "metadata": {},
   "source": [
    "## Barcode Bert"
   ]
  },
  {
   "cell_type": "code",
   "execution_count": 21,
   "metadata": {},
   "outputs": [
    {
     "name": "stdout",
     "output_type": "stream",
     "text": [
      "f1 0.39516462966459004\n",
      "f1 0.36625957317656693\n",
      "f1 0.377464104154733\n",
      "f1 0.3666384742519485\n",
      "f1 0.38714480356796305\n",
      "f1 0.3671008373658139\n",
      "0.4665312928602198\n",
      "0.3766287370302692\n"
     ]
    },
    {
     "name": "stderr",
     "output_type": "stream",
     "text": [
      "C:\\Users\\Auguste Verdier\\AppData\\Local\\Temp\\ipykernel_4600\\1601434867.py:7: DeprecationWarning: DataFrameGroupBy.apply operated on the grouping columns. This behavior is deprecated, and in a future version of pandas the grouping columns will be excluded from the operation. Either pass `include_groups=False` to exclude the groupings or explicitly select the grouping columns after groupby to silence this warning.\n",
      "  per_class_accuracy = preds.groupby('labels_family').apply(lambda group: (group['preds_family'] == group['labels_family']).mean())\n",
      "C:\\Users\\Auguste Verdier\\AppData\\Local\\Temp\\ipykernel_4600\\1601434867.py:7: DeprecationWarning: DataFrameGroupBy.apply operated on the grouping columns. This behavior is deprecated, and in a future version of pandas the grouping columns will be excluded from the operation. Either pass `include_groups=False` to exclude the groupings or explicitly select the grouping columns after groupby to silence this warning.\n",
      "  per_class_accuracy = preds.groupby('labels_family').apply(lambda group: (group['preds_family'] == group['labels_family']).mean())\n",
      "C:\\Users\\Auguste Verdier\\AppData\\Local\\Temp\\ipykernel_4600\\1601434867.py:7: DeprecationWarning: DataFrameGroupBy.apply operated on the grouping columns. This behavior is deprecated, and in a future version of pandas the grouping columns will be excluded from the operation. Either pass `include_groups=False` to exclude the groupings or explicitly select the grouping columns after groupby to silence this warning.\n",
      "  per_class_accuracy = preds.groupby('labels_family').apply(lambda group: (group['preds_family'] == group['labels_family']).mean())\n",
      "C:\\Users\\Auguste Verdier\\AppData\\Local\\Temp\\ipykernel_4600\\1601434867.py:7: DeprecationWarning: DataFrameGroupBy.apply operated on the grouping columns. This behavior is deprecated, and in a future version of pandas the grouping columns will be excluded from the operation. Either pass `include_groups=False` to exclude the groupings or explicitly select the grouping columns after groupby to silence this warning.\n",
      "  per_class_accuracy = preds.groupby('labels_family').apply(lambda group: (group['preds_family'] == group['labels_family']).mean())\n",
      "C:\\Users\\Auguste Verdier\\AppData\\Local\\Temp\\ipykernel_4600\\1601434867.py:7: DeprecationWarning: DataFrameGroupBy.apply operated on the grouping columns. This behavior is deprecated, and in a future version of pandas the grouping columns will be excluded from the operation. Either pass `include_groups=False` to exclude the groupings or explicitly select the grouping columns after groupby to silence this warning.\n",
      "  per_class_accuracy = preds.groupby('labels_family').apply(lambda group: (group['preds_family'] == group['labels_family']).mean())\n",
      "C:\\Users\\Auguste Verdier\\AppData\\Local\\Temp\\ipykernel_4600\\1601434867.py:7: DeprecationWarning: DataFrameGroupBy.apply operated on the grouping columns. This behavior is deprecated, and in a future version of pandas the grouping columns will be excluded from the operation. Either pass `include_groups=False` to exclude the groupings or explicitly select the grouping columns after groupby to silence this warning.\n",
      "  per_class_accuracy = preds.groupby('labels_family').apply(lambda group: (group['preds_family'] == group['labels_family']).mean())\n"
     ]
    }
   ],
   "source": [
    "padnas_macro= []\n",
    "F = []\n",
    "for fold in range(1,7):\n",
    "    preds = pd.read_csv(Barcode +f'/fold_{fold}/predictions.csv')\n",
    "    \n",
    "\n",
    "    per_class_accuracy = preds.groupby('labels_family').apply(lambda group: (group['preds_family'] == group['labels_family']).mean())\n",
    "\n",
    "    macro_avg_accuracy = per_class_accuracy.mean()\n",
    "    padnas_macro.append(macro_avg_accuracy)\n",
    "    # print(\"acc\",macro_avg_accuracy)\n",
    "    \n",
    "    F1 = f1(preds['labels_family'],preds['preds_family'],average='macro')\n",
    "    F.append(F1)\n",
    "    print('f1',F1)\n",
    "    \n",
    "\n",
    "print(sum(padnas_macro)/len(padnas_macro))\n",
    "print(sum(F)/len(F))"
   ]
  }
 ],
 "metadata": {
  "kernelspec": {
   "display_name": "teleo_classif",
   "language": "python",
   "name": "python3"
  },
  "language_info": {
   "codemirror_mode": {
    "name": "ipython",
    "version": 3
   },
   "file_extension": ".py",
   "mimetype": "text/x-python",
   "name": "python",
   "nbconvert_exporter": "python",
   "pygments_lexer": "ipython3",
   "version": "3.12.4"
  }
 },
 "nbformat": 4,
 "nbformat_minor": 2
}
