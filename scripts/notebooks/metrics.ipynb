{
 "cells": [
  {
   "cell_type": "code",
   "execution_count": 1,
   "metadata": {},
   "outputs": [],
   "source": [
    "import pandas as pd"
   ]
  },
  {
   "cell_type": "code",
   "execution_count": null,
   "metadata": {},
   "outputs": [],
   "source": [
    "# Change the paths to the data files here\n",
    "\n",
    "data_path_teleo_clean = \"./teleo_clean/\"\n",
    "\n",
    "OBI_pred_path = \"./Obitools_preds/\"\n",
    "BERT_DNABERT_pred_path = \"./BERT_DNABERT_preds/\"\n",
    "\n"
   ]
  },
  {
   "cell_type": "markdown",
   "metadata": {},
   "source": [
    "## Obitools"
   ]
  },
  {
   "cell_type": "markdown",
   "metadata": {},
   "source": [
    "### Macro Accuracy"
   ]
  },
  {
   "cell_type": "code",
   "execution_count": 9,
   "metadata": {},
   "outputs": [
    {
     "name": "stdout",
     "output_type": "stream",
     "text": [
      "Fold 1 macro avg accuracy: 0.4449987579248107\n",
      "Fold 2 macro avg accuracy: 0.41722979363758894\n",
      "Fold 3 macro avg accuracy: 0.40000878077705726\n",
      "Fold 4 macro avg accuracy: 0.40476562588305387\n",
      "Fold 5 macro avg accuracy: 0.42018922624031063\n",
      "Fold 6 macro avg accuracy: 0.42571860541847234\n"
     ]
    },
    {
     "name": "stderr",
     "output_type": "stream",
     "text": [
      "C:\\Users\\Auguste\\AppData\\Local\\Temp\\ipykernel_13968\\1113212313.py:8: DeprecationWarning: DataFrameGroupBy.apply operated on the grouping columns. This behavior is deprecated, and in a future version of pandas the grouping columns will be excluded from the operation. Either pass `include_groups=False` to exclude the groupings or explicitly select the grouping columns after groupby to silence this warning.\n",
      "  per_class_accuracy = labels.groupby('family').apply(lambda group: (group['preds'] == group['family']).mean(), include_groups=True)\n",
      "C:\\Users\\Auguste\\AppData\\Local\\Temp\\ipykernel_13968\\1113212313.py:8: DeprecationWarning: DataFrameGroupBy.apply operated on the grouping columns. This behavior is deprecated, and in a future version of pandas the grouping columns will be excluded from the operation. Either pass `include_groups=False` to exclude the groupings or explicitly select the grouping columns after groupby to silence this warning.\n",
      "  per_class_accuracy = labels.groupby('family').apply(lambda group: (group['preds'] == group['family']).mean(), include_groups=True)\n",
      "C:\\Users\\Auguste\\AppData\\Local\\Temp\\ipykernel_13968\\1113212313.py:8: DeprecationWarning: DataFrameGroupBy.apply operated on the grouping columns. This behavior is deprecated, and in a future version of pandas the grouping columns will be excluded from the operation. Either pass `include_groups=False` to exclude the groupings or explicitly select the grouping columns after groupby to silence this warning.\n",
      "  per_class_accuracy = labels.groupby('family').apply(lambda group: (group['preds'] == group['family']).mean(), include_groups=True)\n",
      "C:\\Users\\Auguste\\AppData\\Local\\Temp\\ipykernel_13968\\1113212313.py:8: DeprecationWarning: DataFrameGroupBy.apply operated on the grouping columns. This behavior is deprecated, and in a future version of pandas the grouping columns will be excluded from the operation. Either pass `include_groups=False` to exclude the groupings or explicitly select the grouping columns after groupby to silence this warning.\n",
      "  per_class_accuracy = labels.groupby('family').apply(lambda group: (group['preds'] == group['family']).mean(), include_groups=True)\n",
      "C:\\Users\\Auguste\\AppData\\Local\\Temp\\ipykernel_13968\\1113212313.py:8: DeprecationWarning: DataFrameGroupBy.apply operated on the grouping columns. This behavior is deprecated, and in a future version of pandas the grouping columns will be excluded from the operation. Either pass `include_groups=False` to exclude the groupings or explicitly select the grouping columns after groupby to silence this warning.\n",
      "  per_class_accuracy = labels.groupby('family').apply(lambda group: (group['preds'] == group['family']).mean(), include_groups=True)\n",
      "C:\\Users\\Auguste\\AppData\\Local\\Temp\\ipykernel_13968\\1113212313.py:8: DeprecationWarning: DataFrameGroupBy.apply operated on the grouping columns. This behavior is deprecated, and in a future version of pandas the grouping columns will be excluded from the operation. Either pass `include_groups=False` to exclude the groupings or explicitly select the grouping columns after groupby to silence this warning.\n",
      "  per_class_accuracy = labels.groupby('family').apply(lambda group: (group['preds'] == group['family']).mean(), include_groups=True)\n"
     ]
    },
    {
     "data": {
      "text/plain": [
       "0.41881846498021563"
      ]
     },
     "execution_count": 9,
     "metadata": {},
     "output_type": "execute_result"
    }
   ],
   "source": [
    "acc = []\n",
    "\n",
    "for fold in range(1,7):\n",
    "\n",
    "    preds = pd.read_csv(OBI_pred_path +f'fold_{fold}/test_ecotag_pred.csv')\n",
    "    labels = pd .read_csv(data_path_teleo_clean+ f'fold_{fold}/test.csv')\n",
    "\n",
    "    labels['preds'] = preds['pred_family']\n",
    "\n",
    "    per_class_accuracy = labels.groupby('family').apply(lambda group: (group['preds'] == group['family']).mean(), include_groups=True)\n",
    "\n",
    "    macro_avg_accuracy = per_class_accuracy.mean()\n",
    "    acc.append(macro_avg_accuracy)\n",
    "    print(f'Fold {fold} macro avg accuracy: {macro_avg_accuracy}')\n",
    "\n",
    "print('Mean Macro Accuracy',sum(acc)/len(acc))\n",
    "\n"
   ]
  },
  {
   "cell_type": "markdown",
   "metadata": {},
   "source": [
    "### Macro F1"
   ]
  },
  {
   "cell_type": "code",
   "execution_count": 26,
   "metadata": {},
   "outputs": [
    {
     "name": "stdout",
     "output_type": "stream",
     "text": [
      "Fold 1 f1: 0.44831247571658006\n",
      "Fold 2 f1: 0.4163432115988858\n",
      "Fold 3 f1: 0.41289766125400107\n",
      "Fold 4 f1: 0.4110738113169477\n",
      "Fold 5 f1: 0.42375990444758227\n",
      "Fold 6 f1: 0.4235814838132358\n",
      "0.41745691844858784\n"
     ]
    }
   ],
   "source": [
    "from sklearn.metrics import f1_score\n",
    "import numpy as np\n",
    "\n",
    "def nc_to_none(x):\n",
    "    if x == 'NC':\n",
    "\n",
    "        return \"\"\n",
    "    return x\n",
    "\n",
    "acc = []\n",
    "nc = []\n",
    "for fold in range(1,7):\n",
    "    preds = pd.read_csv(f'./Obitools_preds/fold_{fold}/test_ecotag_pred.csv')\n",
    "    labels = pd .read_csv(f'./teleo_clean/fold_{fold}/test.csv')\n",
    "\n",
    "    nc.append(preds['pred_family'].value_counts()['NC'] / len(preds))\n",
    "    \n",
    "    labels['preds'] = preds['pred_family'].apply(nc_to_none)\n",
    "\n",
    "    labels['family'] = labels['family']\n",
    "\n",
    "    f1 = f1_score(labels['family'], labels['preds'], average='macro')\n",
    "    acc.append(f1)\n",
    "    print(f'Fold {fold} f1: {f1}')\n",
    "\n",
    "print('Macro F1',sum(acc)/len(acc))\n",
    "# print(sum(nc)/len(nc))"
   ]
  },
  {
   "cell_type": "markdown",
   "metadata": {},
   "source": [
    "## DNABERT_2"
   ]
  },
  {
   "cell_type": "code",
   "execution_count": 1,
   "metadata": {},
   "outputs": [
    {
     "name": "stdout",
     "output_type": "stream",
     "text": [
      "0.5171338144127227\n"
     ]
    }
   ],
   "source": [
    "BERT_DNABERT_pred_path\n",
    "acc = [0.5109983980271289 ,0.4838812080689153, 0.5538521087742388,0.4869068689394478, 0.5497680279067263, 0.5173962747598789]\n",
    "print(sum(acc)/len(acc))"
   ]
  }
 ],
 "metadata": {
  "kernelspec": {
   "display_name": "torch",
   "language": "python",
   "name": "python3"
  },
  "language_info": {
   "codemirror_mode": {
    "name": "ipython",
    "version": 3
   },
   "file_extension": ".py",
   "mimetype": "text/x-python",
   "name": "python",
   "nbconvert_exporter": "python",
   "pygments_lexer": "ipython3",
   "version": "3.11.8"
  }
 },
 "nbformat": 4,
 "nbformat_minor": 2
}
